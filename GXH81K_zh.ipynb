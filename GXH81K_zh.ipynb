{
    "metadata": {
        "kernelspec": {
            "name": "SQL",
            "display_name": "SQL",
            "language": "sql"
        },
        "language_info": {
            "name": "sql",
            "version": ""
        }
    },
    "nbformat_minor": 2,
    "nbformat": 4,
    "cells": [
        {
            "cell_type": "markdown",
            "source": [
                "1. Listázzuk azon vendégek nevét, email-címét és felhasználói nevét, akik egynél többször foglaltak!\n",
                "    \n",
                "    - Hagyjuk ki azokat a vendégeket, akik május hónapban születtek!"
            ],
            "metadata": {
                "azdata_cell_guid": "14d88476-a06f-475e-ab70-bb6f7db866d8"
            },
            "attachments": {}
        },
        {
            "cell_type": "code",
            "source": [
                "SELECT DISTINCT NEV, EMAIL, USERNEV\r\n",
                "FROM Vendeg\r\n",
                "WHERE MONTH(SZUL_DAT) != 5\r\n",
                "      AND USERNEV IN (SELECT UGYFEL_FK\r\n",
                "                      FROM Foglalas\r\n",
                "                      GROUP BY UGYFEL_FK\r\n",
                "                      HAVING COUNT(*) > 1)"
            ],
            "metadata": {
                "azdata_cell_guid": "ca5478ca-77f4-4311-aae3-e3c0d9a2e170",
                "language": "sql"
            },
            "outputs": [
                {
                    "output_type": "display_data",
                    "data": {
                        "text/html": "(169 rows affected)"
                    },
                    "metadata": {}
                },
                {
                    "output_type": "display_data",
                    "data": {
                        "text/html": "Total execution time: 00:00:00.018"
                    },
                    "metadata": {}
                },
                {
                    "output_type": "execute_result",
                    "metadata": {},
                    "execution_count": 5,
                    "data": {
                        "application/vnd.dataresource+json": {
                            "schema": {
                                "fields": [
                                    {
                                        "name": "NEV"
                                    },
                                    {
                                        "name": "EMAIL"
                                    },
                                    {
                                        "name": "USERNEV"
                                    }
                                ]
                            },
                            "data": [
                                {
                                    "NEV": "Kiss Ádám",
                                    "EMAIL": "ádám.kiss@mail.hu",
                                    "USERNEV": "adam1"
                                },
                                {
                                    "NEV": "Barkóci Ádám",
                                    "EMAIL": "adam3@gmail.com",
                                    "USERNEV": "adam3"
                                },
                                {
                                    "NEV": "Bieniek Ádám",
                                    "EMAIL": "ádám.bieniek@mail.hu",
                                    "USERNEV": "adam4"
                                },
                                {
                                    "NEV": "Lengyel Ágnes",
                                    "EMAIL": "agnes@gmail.com",
                                    "USERNEV": "agnes"
                                },
                                {
                                    "NEV": "Hartyánszky Ágnes",
                                    "EMAIL": "agnes3@gmail.com",
                                    "USERNEV": "agnes3"
                                },
                                {
                                    "NEV": "Horváth Ágnes",
                                    "EMAIL": "AGNESH@gmail.com",
                                    "USERNEV": "AGNESH"
                                },
                                {
                                    "NEV": "Kovács Ágnes",
                                    "EMAIL": "AGNESK@gmail.com",
                                    "USERNEV": "AGNESK"
                                },
                                {
                                    "NEV": "Bíró Ákos",
                                    "EMAIL": "ákos.bíró@mail.hu",
                                    "USERNEV": "akos"
                                },
                                {
                                    "NEV": "Dunai Aladár",
                                    "EMAIL": "aladár.dunai@mail.hu",
                                    "USERNEV": "aladar"
                                },
                                {
                                    "NEV": "Bagóczki Alexandra",
                                    "EMAIL": "alexandra.bagóczki@mail.hu",
                                    "USERNEV": "alexandra"
                                },
                                {
                                    "NEV": "Tóth András",
                                    "EMAIL": "andrás.tóth@mail.hu",
                                    "USERNEV": "andras2"
                                },
                                {
                                    "NEV": "Molnár András",
                                    "EMAIL": "andrás.molnár@mail.hu",
                                    "USERNEV": "andras21"
                                },
                                {
                                    "NEV": "Vígh András",
                                    "EMAIL": "andrás.vígh@mail.hu",
                                    "USERNEV": "andras3"
                                },
                                {
                                    "NEV": "Back András",
                                    "EMAIL": "andras4@gmail.com",
                                    "USERNEV": "andras4"
                                },
                                {
                                    "NEV": "Komjáti András",
                                    "EMAIL": "andras41@gmail.com",
                                    "USERNEV": "andras41"
                                },
                                {
                                    "NEV": "Kiss Andrea",
                                    "EMAIL": "andrea.kiss@mail.hu",
                                    "USERNEV": "andrea"
                                },
                                {
                                    "NEV": "Tornyos Andrea",
                                    "EMAIL": "ANDREAT@gmail.com",
                                    "USERNEV": "ANDREAT"
                                },
                                {
                                    "NEV": "Pivarcsi Anett",
                                    "EMAIL": "anett.pivarcsi@mail.hu",
                                    "USERNEV": "anett3"
                                },
                                {
                                    "NEV": "Tóth Anikó",
                                    "EMAIL": "aniko@gmail.com",
                                    "USERNEV": "aniko"
                                },
                                {
                                    "NEV": "Böröcz Anikó",
                                    "EMAIL": "aniko4@gmail.com",
                                    "USERNEV": "aniko4"
                                },
                                {
                                    "NEV": "Simon Anikó",
                                    "EMAIL": "ANIKOS@gmail.com",
                                    "USERNEV": "ANIKOS"
                                },
                                {
                                    "NEV": "Hamvay-Kovács Anita",
                                    "EMAIL": "anita.hamvay-kovács@mail.hu",
                                    "USERNEV": "anita"
                                },
                                {
                                    "NEV": "Szűcs Annamária",
                                    "EMAIL": "annamária.szűcs@mail.hu",
                                    "USERNEV": "annamaria1"
                                },
                                {
                                    "NEV": "Regős Annamária",
                                    "EMAIL": "ANNAMARIAR@gmail.com",
                                    "USERNEV": "ANNAMARIAR"
                                },
                                {
                                    "NEV": "Jakab Áron",
                                    "EMAIL": "aron2@gmail.com",
                                    "USERNEV": "aron2"
                                },
                                {
                                    "NEV": "Kelemen Áron",
                                    "EMAIL": "áron.kelemen@mail.hu",
                                    "USERNEV": "ARONK"
                                },
                                {
                                    "NEV": "Ötvös Árpád",
                                    "EMAIL": "árpád.ötvös@mail.hu",
                                    "USERNEV": "arpad2"
                                },
                                {
                                    "NEV": "Móricz Árpád",
                                    "EMAIL": "árpád.móricz@mail.hu",
                                    "USERNEV": "ARPADM"
                                },
                                {
                                    "NEV": "Csóti Attila",
                                    "EMAIL": "attila@gmail.com",
                                    "USERNEV": "attila"
                                },
                                {
                                    "NEV": "Gulyás Attila",
                                    "EMAIL": "attila.gulyás@mail.hu",
                                    "USERNEV": "attila1"
                                },
                                {
                                    "NEV": "Baróti Attila",
                                    "EMAIL": "attila.baróti@mail.hu",
                                    "USERNEV": "attila4"
                                },
                                {
                                    "NEV": "Bozsik Balázs",
                                    "EMAIL": "balázs.bozsik@mail.hu",
                                    "USERNEV": "balazs1"
                                },
                                {
                                    "NEV": "Szűcs Balázs",
                                    "EMAIL": "balázs.szűcs@mail.hu",
                                    "USERNEV": "balazs2"
                                },
                                {
                                    "NEV": "Bakódy Balázs",
                                    "EMAIL": "balazs3@gmail.com",
                                    "USERNEV": "balazs3"
                                },
                                {
                                    "NEV": "Horváth Bálint",
                                    "EMAIL": "balint@gmail.com",
                                    "USERNEV": "balint"
                                },
                                {
                                    "NEV": "Molnár Bálint",
                                    "EMAIL": "balint1@gmail.com",
                                    "USERNEV": "balint1"
                                },
                                {
                                    "NEV": "Vukasinovity Bálint",
                                    "EMAIL": "balint2@gmail.com",
                                    "USERNEV": "balint2"
                                },
                                {
                                    "NEV": "Endresz Bálint",
                                    "EMAIL": "bálint.endresz@mail.hu",
                                    "USERNEV": "balu"
                                },
                                {
                                    "NEV": "Bagi Beáta",
                                    "EMAIL": "beáta.bagi@mail.hu",
                                    "USERNEV": "beata4"
                                },
                                {
                                    "NEV": "Kerényi Beatrix",
                                    "EMAIL": "beatrix.kerényi@mail.hu",
                                    "USERNEV": "BEATRIXK"
                                },
                                {
                                    "NEV": "Szekendi Beatrix",
                                    "EMAIL": "beatrix.szekendi@mail.hu",
                                    "USERNEV": "BEATRIXS"
                                },
                                {
                                    "NEV": "Farkas Béla",
                                    "EMAIL": "BELAF@gmail.com",
                                    "USERNEV": "BELAF"
                                },
                                {
                                    "NEV": "Győrffy Bence",
                                    "EMAIL": "bence@gmail.com",
                                    "USERNEV": "bence"
                                },
                                {
                                    "NEV": "Bajusz Bence",
                                    "EMAIL": "bence.bajusz@mail.hu",
                                    "USERNEV": "BENCEB"
                                },
                                {
                                    "NEV": "Simon Bernadett",
                                    "EMAIL": "bernadett1@gmail.com",
                                    "USERNEV": "bernadett1"
                                },
                                {
                                    "NEV": "Kovács Bernadett",
                                    "EMAIL": "bernadett.kovács@mail.hu",
                                    "USERNEV": "bernadett2"
                                },
                                {
                                    "NEV": "Orbán Bernadett",
                                    "EMAIL": "bernadett.orbán@mail.hu",
                                    "USERNEV": "BERNADETTO"
                                },
                                {
                                    "NEV": "Csiger Bertalan",
                                    "EMAIL": "bertalan@gmail.com",
                                    "USERNEV": "bertalan"
                                },
                                {
                                    "NEV": "Székely Brigitta",
                                    "EMAIL": "brigitta.székely@mail.hu",
                                    "USERNEV": "brigitta"
                                },
                                {
                                    "NEV": "Nagymihály Csongor",
                                    "EMAIL": "csongor.nagymihály@mail.hu",
                                    "USERNEV": "csongor3"
                                },
                                {
                                    "NEV": "Vörös Dániel",
                                    "EMAIL": "daniel@gmail.com",
                                    "USERNEV": "dani"
                                },
                                {
                                    "NEV": "Rácz Dániel",
                                    "EMAIL": "dániel.rácz@mail.hu",
                                    "USERNEV": "daniel"
                                },
                                {
                                    "NEV": "Keszler Dániel",
                                    "EMAIL": "dániel.keszler@mail.hu",
                                    "USERNEV": "daniel1"
                                },
                                {
                                    "NEV": "Ambrus Dávid",
                                    "EMAIL": "david@gmail.com",
                                    "USERNEV": "david"
                                },
                                {
                                    "NEV": "Sobják Dávid",
                                    "EMAIL": "david1@gmail.com",
                                    "USERNEV": "david1"
                                },
                                {
                                    "NEV": "Barna Debóra",
                                    "EMAIL": "debóra.barna@mail.hu",
                                    "USERNEV": "debora"
                                },
                                {
                                    "NEV": "Tömböly Dénes",
                                    "EMAIL": "denes@gmail.com",
                                    "USERNEV": "denes"
                                },
                                {
                                    "NEV": "Bittmann Edit",
                                    "EMAIL": "edit.bittmann@mail.hu",
                                    "USERNEV": "edit"
                                },
                                {
                                    "NEV": "Kuruc Emese",
                                    "EMAIL": "emese.kuruc@mail.hu",
                                    "USERNEV": "emese"
                                },
                                {
                                    "NEV": "Balogh Eszter",
                                    "EMAIL": "eszter.balogh@mail.hu",
                                    "USERNEV": "eszter2"
                                },
                                {
                                    "NEV": "Fülöp Eszter",
                                    "EMAIL": "eszter.fülöp@mail.hu",
                                    "USERNEV": "eszter4"
                                },
                                {
                                    "NEV": "Érsek Eszter",
                                    "EMAIL": "eszter.érsek@mail.hu",
                                    "USERNEV": "ESZTERE"
                                },
                                {
                                    "NEV": "Enyedi Éva",
                                    "EMAIL": "eva@gmail.com",
                                    "USERNEV": "eva"
                                },
                                {
                                    "NEV": "Perlinger Éva",
                                    "EMAIL": "eva2@gmail.com",
                                    "USERNEV": "eva2"
                                },
                                {
                                    "NEV": "Viktor Éva",
                                    "EMAIL": "EVAV@gmail.com",
                                    "USERNEV": "EVAV"
                                },
                                {
                                    "NEV": "Orosz Ferenc",
                                    "EMAIL": "ferenc.orosz@mail.hu",
                                    "USERNEV": "ferenc1"
                                },
                                {
                                    "NEV": "Frank Fruzsina",
                                    "EMAIL": "fruzsina4@gmail.com",
                                    "USERNEV": "fruzsina4"
                                },
                                {
                                    "NEV": "Köves Gábor",
                                    "EMAIL": "gabor1@gmail.com",
                                    "USERNEV": "gabor1"
                                },
                                {
                                    "NEV": "Telek Gábor",
                                    "EMAIL": "gábor.telek@mail.hu",
                                    "USERNEV": "gabor4"
                                },
                                {
                                    "NEV": "Nagy Gabriella",
                                    "EMAIL": "gabriella1@gmail.com",
                                    "USERNEV": "gabriella1"
                                },
                                {
                                    "NEV": "Nyíri Georgij",
                                    "EMAIL": "georgij.nyíri@mail.hu",
                                    "USERNEV": "georgij"
                                },
                                {
                                    "NEV": "Bárci Gusztáv",
                                    "EMAIL": "gusztav@gmail.com",
                                    "USERNEV": "gusztav"
                                },
                                {
                                    "NEV": "Kornseé Gyöngyi",
                                    "EMAIL": "gyöngyi.kornseé@mail.hu",
                                    "USERNEV": "GYONGYIK"
                                },
                                {
                                    "NEV": "Oroszi György",
                                    "EMAIL": "GYORGYO@gmail.com",
                                    "USERNEV": "GYORGYO"
                                },
                                {
                                    "NEV": "Nádudvari Henrik",
                                    "EMAIL": "henrik.nádudvari@mail.hu",
                                    "USERNEV": "henrik3"
                                },
                                {
                                    "NEV": "Andor Ibolya",
                                    "EMAIL": "ibolya.andor@mail.hu",
                                    "USERNEV": "IBOLYAA"
                                },
                                {
                                    "NEV": "Bosnyák Ilona",
                                    "EMAIL": "ilona3@gmail.com",
                                    "USERNEV": "ilona3"
                                },
                                {
                                    "NEV": "Búza Imre",
                                    "EMAIL": "imre.búza@mail.hu",
                                    "USERNEV": "imre"
                                },
                                {
                                    "NEV": "Papp Imre",
                                    "EMAIL": "imre.papp@mail.hu",
                                    "USERNEV": "imre1"
                                },
                                {
                                    "NEV": "Soós István",
                                    "EMAIL": "istvan@gmail.com",
                                    "USERNEV": "istvan"
                                },
                                {
                                    "NEV": "Vizi István",
                                    "EMAIL": "istván.vizi@mail.hu",
                                    "USERNEV": "istvan1"
                                },
                                {
                                    "NEV": "Varga István",
                                    "EMAIL": "ISTVANV@gmail.com",
                                    "USERNEV": "ISTVANV"
                                },
                                {
                                    "NEV": "Harangozó János",
                                    "EMAIL": "janos3@gmail.com",
                                    "USERNEV": "janos3"
                                },
                                {
                                    "NEV": "Giliga János",
                                    "EMAIL": "JANOSG@gmail.com",
                                    "USERNEV": "JANOSG"
                                },
                                {
                                    "NEV": "Pálinkás János",
                                    "EMAIL": "JANOSP@gmail.com",
                                    "USERNEV": "JANOSP"
                                },
                                {
                                    "NEV": "Gergely József",
                                    "EMAIL": "jozsef@gmail.com",
                                    "USERNEV": "jozsef"
                                },
                                {
                                    "NEV": "Vajda József",
                                    "EMAIL": "józsef.vajda@mail.hu",
                                    "USERNEV": "jozsef2"
                                },
                                {
                                    "NEV": "Hídasi Judit",
                                    "EMAIL": "JUDITH@gmail.com",
                                    "USERNEV": "JUDITH"
                                },
                                {
                                    "NEV": "Tóth Júlia",
                                    "EMAIL": "julia@gmail.com",
                                    "USERNEV": "julia"
                                },
                                {
                                    "NEV": "Nagy Júlia",
                                    "EMAIL": "julia4@gmail.com",
                                    "USERNEV": "julia4"
                                },
                                {
                                    "NEV": "Szabó Julianna",
                                    "EMAIL": "julianna4@gmail.com",
                                    "USERNEV": "julianna4"
                                },
                                {
                                    "NEV": "Gondos Katalin",
                                    "EMAIL": "katalin.gondos@mail.hu",
                                    "USERNEV": "kata"
                                },
                                {
                                    "NEV": "Horváth Katalin",
                                    "EMAIL": "katalin.horváth@mail.hu",
                                    "USERNEV": "katalin"
                                },
                                {
                                    "NEV": "Kertész Katalin",
                                    "EMAIL": "katalin4@gmail.com",
                                    "USERNEV": "katalin4"
                                },
                                {
                                    "NEV": "Kovács Katalin",
                                    "EMAIL": "katalin.kovács@mail.hu",
                                    "USERNEV": "katka"
                                },
                                {
                                    "NEV": "Bakó Klaudia",
                                    "EMAIL": "klaudia.bakó@mail.hu",
                                    "USERNEV": "klaudia2"
                                },
                                {
                                    "NEV": "Lukács Kornél",
                                    "EMAIL": "kornél.lukács@mail.hu",
                                    "USERNEV": "kornel4"
                                },
                                {
                                    "NEV": "Poprádi Kristóf",
                                    "EMAIL": "kristof4@gmail.com",
                                    "USERNEV": "kristof4"
                                },
                                {
                                    "NEV": "Horváth Krisztina",
                                    "EMAIL": "kriszti@gmail.com",
                                    "USERNEV": "kriszti"
                                },
                                {
                                    "NEV": "Czérna Krisztián",
                                    "EMAIL": "krisztián.czérna@mail.hu",
                                    "USERNEV": "krisztian4"
                                },
                                {
                                    "NEV": "Bori Krisztina",
                                    "EMAIL": "krisztina.bori@mail.hu",
                                    "USERNEV": "krisztina1"
                                },
                                {
                                    "NEV": "Gyárfás Krisztina",
                                    "EMAIL": "KRISZTINAG@gmail.com",
                                    "USERNEV": "KRISZTINAG"
                                },
                                {
                                    "NEV": "Kiss Lajos",
                                    "EMAIL": "lajos.kiss@mail.hu",
                                    "USERNEV": "lajos"
                                },
                                {
                                    "NEV": "Nagymihály Lajos",
                                    "EMAIL": "lajos.nagymihály@mail.hu",
                                    "USERNEV": "lala"
                                },
                                {
                                    "NEV": "Móra László",
                                    "EMAIL": "lászló.móra@mail.hu",
                                    "USERNEV": "laszlo2"
                                },
                                {
                                    "NEV": "Antal László",
                                    "EMAIL": "lászló.antal@mail.hu",
                                    "USERNEV": "LASZLOA"
                                },
                                {
                                    "NEV": "Nagy László",
                                    "EMAIL": "lászló.nagy@mail.hu",
                                    "USERNEV": "LASZLON"
                                },
                                {
                                    "NEV": "Baráth Mária",
                                    "EMAIL": "mária.baráth@mail.hu",
                                    "USERNEV": "maria1"
                                },
                                {
                                    "NEV": "Kispál Márk",
                                    "EMAIL": "márk.kispál@mail.hu",
                                    "USERNEV": "mark"
                                },
                                {
                                    "NEV": "Horváth Márk",
                                    "EMAIL": "márk.horváth@mail.hu",
                                    "USERNEV": "MARKH"
                                },
                                {
                                    "NEV": "Kalacsi Márton",
                                    "EMAIL": "marton@gmail.com",
                                    "USERNEV": "marton"
                                },
                                {
                                    "NEV": "Koza Máté",
                                    "EMAIL": "máté.koza@mail.hu",
                                    "USERNEV": "MATEK"
                                },
                                {
                                    "NEV": "Botka Mátyás",
                                    "EMAIL": "matyas2@gmail.com",
                                    "USERNEV": "matyas2"
                                },
                                {
                                    "NEV": "Szilágyi Mátyás",
                                    "EMAIL": "mátyás.szilágyi@mail.hu",
                                    "USERNEV": "MATYASS"
                                },
                                {
                                    "NEV": "Juhász Mihály",
                                    "EMAIL": "mihály.juhász@mail.hu",
                                    "USERNEV": "MIHALYJ"
                                },
                                {
                                    "NEV": "Gondos Miklós",
                                    "EMAIL": "miklos2@gmail.com",
                                    "USERNEV": "miklos2"
                                },
                                {
                                    "NEV": "Balla Miklós",
                                    "EMAIL": "miklós.balla@mail.hu",
                                    "USERNEV": "MIKLOSB"
                                },
                                {
                                    "NEV": "Mohos Mónika",
                                    "EMAIL": "mónika.mohos@mail.hu",
                                    "USERNEV": "MONIKAM"
                                },
                                {
                                    "NEV": "Fő Nándor",
                                    "EMAIL": "nándor.fő@mail.hu",
                                    "USERNEV": "NANDORF"
                                },
                                {
                                    "NEV": "Horváth Nikolett",
                                    "EMAIL": "nikolett3@gmail.com",
                                    "USERNEV": "nikolett3"
                                },
                                {
                                    "NEV": "Kő Nikoletta",
                                    "EMAIL": "nikoletta4@gmail.com",
                                    "USERNEV": "nikoletta4"
                                },
                                {
                                    "NEV": "Tatár Nikoletta",
                                    "EMAIL": "nikoletta.tatár@mail.hu",
                                    "USERNEV": "NIKOLETTAT"
                                },
                                {
                                    "NEV": "Szűcs Norbert",
                                    "EMAIL": "norbert@gmail.com",
                                    "USERNEV": "norbert"
                                },
                                {
                                    "NEV": "Hegedűs Norbert",
                                    "EMAIL": "norbert.hegedűs@mail.hu",
                                    "USERNEV": "norbert2"
                                },
                                {
                                    "NEV": "Mile Norbert",
                                    "EMAIL": "norbert4@gmail.com",
                                    "USERNEV": "norbert4"
                                },
                                {
                                    "NEV": "Béres Norbert",
                                    "EMAIL": "norbert5@gmail.com",
                                    "USERNEV": "norbert5"
                                },
                                {
                                    "NEV": "Barabás Pál",
                                    "EMAIL": "pál.barabás@mail.hu",
                                    "USERNEV": "pal"
                                },
                                {
                                    "NEV": "Kozma Péter",
                                    "EMAIL": "peter1@gmail.com",
                                    "USERNEV": "peter1"
                                },
                                {
                                    "NEV": "Bozsó Péter",
                                    "EMAIL": "peter2@gmail.com",
                                    "USERNEV": "peter2"
                                },
                                {
                                    "NEV": "Szalai Péter",
                                    "EMAIL": "peter3@gmail.com",
                                    "USERNEV": "peter3"
                                },
                                {
                                    "NEV": "Bíró Péter",
                                    "EMAIL": "péter.bíró@mail.hu",
                                    "USERNEV": "peter4"
                                },
                                {
                                    "NEV": "Berendi Péter",
                                    "EMAIL": "péter.berendi@mail.hu",
                                    "USERNEV": "PETERB"
                                },
                                {
                                    "NEV": "Palágyi Polla",
                                    "EMAIL": "polla@gmail.com",
                                    "USERNEV": "polla"
                                },
                                {
                                    "NEV": "Rácz Rajmond",
                                    "EMAIL": "rajmond.rácz@mail.hu",
                                    "USERNEV": "rajmond4"
                                },
                                {
                                    "NEV": "Szikszai Réka",
                                    "EMAIL": "réka.szikszai@mail.hu",
                                    "USERNEV": "reka4"
                                },
                                {
                                    "NEV": "Szirmai Renáta",
                                    "EMAIL": "RENATAS@gmail.com",
                                    "USERNEV": "RENATAS"
                                },
                                {
                                    "NEV": "Patay Róbert",
                                    "EMAIL": "robert2@gmail.com",
                                    "USERNEV": "robert2"
                                },
                                {
                                    "NEV": "Iván Róbert",
                                    "EMAIL": "róbert.iván@mail.hu",
                                    "USERNEV": "ROBERTI"
                                },
                                {
                                    "NEV": "Tóth Roland",
                                    "EMAIL": "roland@gmail.com",
                                    "USERNEV": "roland"
                                },
                                {
                                    "NEV": "Ferencz Roland",
                                    "EMAIL": "roland.ferencz@mail.hu",
                                    "USERNEV": "roland1"
                                },
                                {
                                    "NEV": "Bucskó Róza",
                                    "EMAIL": "roza2@gmail.com",
                                    "USERNEV": "roza2"
                                },
                                {
                                    "NEV": "Karasz Sándor",
                                    "EMAIL": "sandor@gmail.com",
                                    "USERNEV": "sandor"
                                },
                                {
                                    "NEV": "Farkas Sándor",
                                    "EMAIL": "sándor.farkas@mail.hu",
                                    "USERNEV": "sandor3"
                                },
                                {
                                    "NEV": "Nagy Sándor",
                                    "EMAIL": "sandor4@gmail.com",
                                    "USERNEV": "sandor4"
                                },
                                {
                                    "NEV": "Farkas Sára",
                                    "EMAIL": "sára.farkas@mail.hu",
                                    "USERNEV": "sara"
                                },
                                {
                                    "NEV": "Foltényi Sebastián",
                                    "EMAIL": "SEBASTIANF@gmail.com",
                                    "USERNEV": "SEBASTIANF"
                                },
                                {
                                    "NEV": "Rab Sebestyén",
                                    "EMAIL": "sebestyen@gmail.com",
                                    "USERNEV": "sebestyen"
                                },
                                {
                                    "NEV": "Miklós Szabolcs",
                                    "EMAIL": "szabolcs.miklós@mail.hu",
                                    "USERNEV": "SZABOLCSM"
                                },
                                {
                                    "NEV": "Szalai Szilárd",
                                    "EMAIL": "szilárd.szalai@mail.hu",
                                    "USERNEV": "SZILARDS"
                                },
                                {
                                    "NEV": "Tari Szilvia",
                                    "EMAIL": "szilvia.tari@mail.hu",
                                    "USERNEV": "szilvia1"
                                },
                                {
                                    "NEV": "Miklós Tamara",
                                    "EMAIL": "tamara.miklós@mail.hu",
                                    "USERNEV": "tamara2"
                                },
                                {
                                    "NEV": "Antal Tamás",
                                    "EMAIL": "tamás.antal@mail.hu",
                                    "USERNEV": "tamas"
                                },
                                {
                                    "NEV": "Fényes Tamás",
                                    "EMAIL": "TAMASF@gmail.com",
                                    "USERNEV": "TAMASF"
                                },
                                {
                                    "NEV": "Gombos Tibor",
                                    "EMAIL": "tibor.gombos@mail.hu",
                                    "USERNEV": "tibor"
                                },
                                {
                                    "NEV": "Kazy Tihamér",
                                    "EMAIL": "tihamér.kazy@mail.hu",
                                    "USERNEV": "tihamer"
                                },
                                {
                                    "NEV": "Dusha Tímea",
                                    "EMAIL": "tímea.dusha@mail.hu",
                                    "USERNEV": "timea2"
                                },
                                {
                                    "NEV": "Turcsik Tünde",
                                    "EMAIL": "tunde@gmail.com",
                                    "USERNEV": "tunde"
                                },
                                {
                                    "NEV": "Feró Valentin",
                                    "EMAIL": "valentin.feró@mail.hu",
                                    "USERNEV": "valentin"
                                },
                                {
                                    "NEV": "Tankó Veronika",
                                    "EMAIL": "veronika4@gmail.com",
                                    "USERNEV": "veronika4"
                                },
                                {
                                    "NEV": "Boros Vivien",
                                    "EMAIL": "vivien3@gmail.com",
                                    "USERNEV": "vivien3"
                                },
                                {
                                    "NEV": "Fodor Zoltán",
                                    "EMAIL": "zoltán.fodor@mail.hu",
                                    "USERNEV": "zoltan"
                                },
                                {
                                    "NEV": "Pintér Zoltán",
                                    "EMAIL": "zoltán.pintér@mail.hu",
                                    "USERNEV": "ZOLTANP"
                                },
                                {
                                    "NEV": "Tóth Zoltán",
                                    "EMAIL": "zoltán.tóth@mail.hu",
                                    "USERNEV": "ZOLTANT"
                                },
                                {
                                    "NEV": "Molnár Zsófi",
                                    "EMAIL": "zsofi1@gmail.com",
                                    "USERNEV": "zsofi1"
                                },
                                {
                                    "NEV": "Józsa Zsolt",
                                    "EMAIL": "ZSOLTJ@gmail.com",
                                    "USERNEV": "ZSOLTJ"
                                },
                                {
                                    "NEV": "Pusztai Zsuzsanna",
                                    "EMAIL": "zsuzsanna@gmail.com",
                                    "USERNEV": "zsuzsa"
                                },
                                {
                                    "NEV": "Varsányi Zsuzsa",
                                    "EMAIL": "zsuzsa.varsányi@mail.hu",
                                    "USERNEV": "zsuzsa3"
                                },
                                {
                                    "NEV": "Barta Zsuzsanna",
                                    "EMAIL": "zsuzsanna.barta@mail.hu",
                                    "USERNEV": "zsuzsanna"
                                },
                                {
                                    "NEV": "Vajda Zsuzsa",
                                    "EMAIL": "zsuzsa.vajda@mail.hu",
                                    "USERNEV": "ZSUZSAV"
                                }
                            ]
                        },
                        "text/html": [
                            "<table>",
                            "<tr><th>NEV</th><th>EMAIL</th><th>USERNEV</th></tr>",
                            "<tr><td>Kiss Ádám</td><td>ádám.kiss@mail.hu</td><td>adam1</td></tr>",
                            "<tr><td>Barkóci Ádám</td><td>adam3@gmail.com</td><td>adam3</td></tr>",
                            "<tr><td>Bieniek Ádám</td><td>ádám.bieniek@mail.hu</td><td>adam4</td></tr>",
                            "<tr><td>Lengyel Ágnes</td><td>agnes@gmail.com</td><td>agnes</td></tr>",
                            "<tr><td>Hartyánszky Ágnes</td><td>agnes3@gmail.com</td><td>agnes3</td></tr>",
                            "<tr><td>Horváth Ágnes</td><td>AGNESH@gmail.com</td><td>AGNESH</td></tr>",
                            "<tr><td>Kovács Ágnes</td><td>AGNESK@gmail.com</td><td>AGNESK</td></tr>",
                            "<tr><td>Bíró Ákos</td><td>ákos.bíró@mail.hu</td><td>akos</td></tr>",
                            "<tr><td>Dunai Aladár</td><td>aladár.dunai@mail.hu</td><td>aladar</td></tr>",
                            "<tr><td>Bagóczki Alexandra</td><td>alexandra.bagóczki@mail.hu</td><td>alexandra</td></tr>",
                            "<tr><td>Tóth András</td><td>andrás.tóth@mail.hu</td><td>andras2</td></tr>",
                            "<tr><td>Molnár András</td><td>andrás.molnár@mail.hu</td><td>andras21</td></tr>",
                            "<tr><td>Vígh András</td><td>andrás.vígh@mail.hu</td><td>andras3</td></tr>",
                            "<tr><td>Back András</td><td>andras4@gmail.com</td><td>andras4</td></tr>",
                            "<tr><td>Komjáti András</td><td>andras41@gmail.com</td><td>andras41</td></tr>",
                            "<tr><td>Kiss Andrea</td><td>andrea.kiss@mail.hu</td><td>andrea</td></tr>",
                            "<tr><td>Tornyos Andrea</td><td>ANDREAT@gmail.com</td><td>ANDREAT</td></tr>",
                            "<tr><td>Pivarcsi Anett</td><td>anett.pivarcsi@mail.hu</td><td>anett3</td></tr>",
                            "<tr><td>Tóth Anikó</td><td>aniko@gmail.com</td><td>aniko</td></tr>",
                            "<tr><td>Böröcz Anikó</td><td>aniko4@gmail.com</td><td>aniko4</td></tr>",
                            "<tr><td>Simon Anikó</td><td>ANIKOS@gmail.com</td><td>ANIKOS</td></tr>",
                            "<tr><td>Hamvay-Kovács Anita</td><td>anita.hamvay-kovács@mail.hu</td><td>anita</td></tr>",
                            "<tr><td>Szűcs Annamária</td><td>annamária.szűcs@mail.hu</td><td>annamaria1</td></tr>",
                            "<tr><td>Regős Annamária</td><td>ANNAMARIAR@gmail.com</td><td>ANNAMARIAR</td></tr>",
                            "<tr><td>Jakab Áron</td><td>aron2@gmail.com</td><td>aron2</td></tr>",
                            "<tr><td>Kelemen Áron</td><td>áron.kelemen@mail.hu</td><td>ARONK</td></tr>",
                            "<tr><td>Ötvös Árpád</td><td>árpád.ötvös@mail.hu</td><td>arpad2</td></tr>",
                            "<tr><td>Móricz Árpád</td><td>árpád.móricz@mail.hu</td><td>ARPADM</td></tr>",
                            "<tr><td>Csóti Attila</td><td>attila@gmail.com</td><td>attila</td></tr>",
                            "<tr><td>Gulyás Attila</td><td>attila.gulyás@mail.hu</td><td>attila1</td></tr>",
                            "<tr><td>Baróti Attila</td><td>attila.baróti@mail.hu</td><td>attila4</td></tr>",
                            "<tr><td>Bozsik Balázs</td><td>balázs.bozsik@mail.hu</td><td>balazs1</td></tr>",
                            "<tr><td>Szűcs Balázs</td><td>balázs.szűcs@mail.hu</td><td>balazs2</td></tr>",
                            "<tr><td>Bakódy Balázs</td><td>balazs3@gmail.com</td><td>balazs3</td></tr>",
                            "<tr><td>Horváth Bálint</td><td>balint@gmail.com</td><td>balint</td></tr>",
                            "<tr><td>Molnár Bálint</td><td>balint1@gmail.com</td><td>balint1</td></tr>",
                            "<tr><td>Vukasinovity Bálint</td><td>balint2@gmail.com</td><td>balint2</td></tr>",
                            "<tr><td>Endresz Bálint</td><td>bálint.endresz@mail.hu</td><td>balu</td></tr>",
                            "<tr><td>Bagi Beáta</td><td>beáta.bagi@mail.hu</td><td>beata4</td></tr>",
                            "<tr><td>Kerényi Beatrix</td><td>beatrix.kerényi@mail.hu</td><td>BEATRIXK</td></tr>",
                            "<tr><td>Szekendi Beatrix</td><td>beatrix.szekendi@mail.hu</td><td>BEATRIXS</td></tr>",
                            "<tr><td>Farkas Béla</td><td>BELAF@gmail.com</td><td>BELAF</td></tr>",
                            "<tr><td>Győrffy Bence</td><td>bence@gmail.com</td><td>bence</td></tr>",
                            "<tr><td>Bajusz Bence</td><td>bence.bajusz@mail.hu</td><td>BENCEB</td></tr>",
                            "<tr><td>Simon Bernadett</td><td>bernadett1@gmail.com</td><td>bernadett1</td></tr>",
                            "<tr><td>Kovács Bernadett</td><td>bernadett.kovács@mail.hu</td><td>bernadett2</td></tr>",
                            "<tr><td>Orbán Bernadett</td><td>bernadett.orbán@mail.hu</td><td>BERNADETTO</td></tr>",
                            "<tr><td>Csiger Bertalan</td><td>bertalan@gmail.com</td><td>bertalan</td></tr>",
                            "<tr><td>Székely Brigitta</td><td>brigitta.székely@mail.hu</td><td>brigitta</td></tr>",
                            "<tr><td>Nagymihály Csongor</td><td>csongor.nagymihály@mail.hu</td><td>csongor3</td></tr>",
                            "<tr><td>Vörös Dániel</td><td>daniel@gmail.com</td><td>dani</td></tr>",
                            "<tr><td>Rácz Dániel</td><td>dániel.rácz@mail.hu</td><td>daniel</td></tr>",
                            "<tr><td>Keszler Dániel</td><td>dániel.keszler@mail.hu</td><td>daniel1</td></tr>",
                            "<tr><td>Ambrus Dávid</td><td>david@gmail.com</td><td>david</td></tr>",
                            "<tr><td>Sobják Dávid</td><td>david1@gmail.com</td><td>david1</td></tr>",
                            "<tr><td>Barna Debóra</td><td>debóra.barna@mail.hu</td><td>debora</td></tr>",
                            "<tr><td>Tömböly Dénes</td><td>denes@gmail.com</td><td>denes</td></tr>",
                            "<tr><td>Bittmann Edit</td><td>edit.bittmann@mail.hu</td><td>edit</td></tr>",
                            "<tr><td>Kuruc Emese</td><td>emese.kuruc@mail.hu</td><td>emese</td></tr>",
                            "<tr><td>Balogh Eszter</td><td>eszter.balogh@mail.hu</td><td>eszter2</td></tr>",
                            "<tr><td>Fülöp Eszter</td><td>eszter.fülöp@mail.hu</td><td>eszter4</td></tr>",
                            "<tr><td>Érsek Eszter</td><td>eszter.érsek@mail.hu</td><td>ESZTERE</td></tr>",
                            "<tr><td>Enyedi Éva</td><td>eva@gmail.com</td><td>eva</td></tr>",
                            "<tr><td>Perlinger Éva</td><td>eva2@gmail.com</td><td>eva2</td></tr>",
                            "<tr><td>Viktor Éva</td><td>EVAV@gmail.com</td><td>EVAV</td></tr>",
                            "<tr><td>Orosz Ferenc</td><td>ferenc.orosz@mail.hu</td><td>ferenc1</td></tr>",
                            "<tr><td>Frank Fruzsina</td><td>fruzsina4@gmail.com</td><td>fruzsina4</td></tr>",
                            "<tr><td>Köves Gábor</td><td>gabor1@gmail.com</td><td>gabor1</td></tr>",
                            "<tr><td>Telek Gábor</td><td>gábor.telek@mail.hu</td><td>gabor4</td></tr>",
                            "<tr><td>Nagy Gabriella</td><td>gabriella1@gmail.com</td><td>gabriella1</td></tr>",
                            "<tr><td>Nyíri Georgij</td><td>georgij.nyíri@mail.hu</td><td>georgij</td></tr>",
                            "<tr><td>Bárci Gusztáv</td><td>gusztav@gmail.com</td><td>gusztav</td></tr>",
                            "<tr><td>Kornseé Gyöngyi</td><td>gyöngyi.kornseé@mail.hu</td><td>GYONGYIK</td></tr>",
                            "<tr><td>Oroszi György</td><td>GYORGYO@gmail.com</td><td>GYORGYO</td></tr>",
                            "<tr><td>Nádudvari Henrik</td><td>henrik.nádudvari@mail.hu</td><td>henrik3</td></tr>",
                            "<tr><td>Andor Ibolya</td><td>ibolya.andor@mail.hu</td><td>IBOLYAA</td></tr>",
                            "<tr><td>Bosnyák Ilona</td><td>ilona3@gmail.com</td><td>ilona3</td></tr>",
                            "<tr><td>Búza Imre</td><td>imre.búza@mail.hu</td><td>imre</td></tr>",
                            "<tr><td>Papp Imre</td><td>imre.papp@mail.hu</td><td>imre1</td></tr>",
                            "<tr><td>Soós István</td><td>istvan@gmail.com</td><td>istvan</td></tr>",
                            "<tr><td>Vizi István</td><td>istván.vizi@mail.hu</td><td>istvan1</td></tr>",
                            "<tr><td>Varga István</td><td>ISTVANV@gmail.com</td><td>ISTVANV</td></tr>",
                            "<tr><td>Harangozó János</td><td>janos3@gmail.com</td><td>janos3</td></tr>",
                            "<tr><td>Giliga János</td><td>JANOSG@gmail.com</td><td>JANOSG</td></tr>",
                            "<tr><td>Pálinkás János</td><td>JANOSP@gmail.com</td><td>JANOSP</td></tr>",
                            "<tr><td>Gergely József</td><td>jozsef@gmail.com</td><td>jozsef</td></tr>",
                            "<tr><td>Vajda József</td><td>józsef.vajda@mail.hu</td><td>jozsef2</td></tr>",
                            "<tr><td>Hídasi Judit</td><td>JUDITH@gmail.com</td><td>JUDITH</td></tr>",
                            "<tr><td>Tóth Júlia</td><td>julia@gmail.com</td><td>julia</td></tr>",
                            "<tr><td>Nagy Júlia</td><td>julia4@gmail.com</td><td>julia4</td></tr>",
                            "<tr><td>Szabó Julianna</td><td>julianna4@gmail.com</td><td>julianna4</td></tr>",
                            "<tr><td>Gondos Katalin</td><td>katalin.gondos@mail.hu</td><td>kata</td></tr>",
                            "<tr><td>Horváth Katalin</td><td>katalin.horváth@mail.hu</td><td>katalin</td></tr>",
                            "<tr><td>Kertész Katalin</td><td>katalin4@gmail.com</td><td>katalin4</td></tr>",
                            "<tr><td>Kovács Katalin</td><td>katalin.kovács@mail.hu</td><td>katka</td></tr>",
                            "<tr><td>Bakó Klaudia</td><td>klaudia.bakó@mail.hu</td><td>klaudia2</td></tr>",
                            "<tr><td>Lukács Kornél</td><td>kornél.lukács@mail.hu</td><td>kornel4</td></tr>",
                            "<tr><td>Poprádi Kristóf</td><td>kristof4@gmail.com</td><td>kristof4</td></tr>",
                            "<tr><td>Horváth Krisztina</td><td>kriszti@gmail.com</td><td>kriszti</td></tr>",
                            "<tr><td>Czérna Krisztián</td><td>krisztián.czérna@mail.hu</td><td>krisztian4</td></tr>",
                            "<tr><td>Bori Krisztina</td><td>krisztina.bori@mail.hu</td><td>krisztina1</td></tr>",
                            "<tr><td>Gyárfás Krisztina</td><td>KRISZTINAG@gmail.com</td><td>KRISZTINAG</td></tr>",
                            "<tr><td>Kiss Lajos</td><td>lajos.kiss@mail.hu</td><td>lajos</td></tr>",
                            "<tr><td>Nagymihály Lajos</td><td>lajos.nagymihály@mail.hu</td><td>lala</td></tr>",
                            "<tr><td>Móra László</td><td>lászló.móra@mail.hu</td><td>laszlo2</td></tr>",
                            "<tr><td>Antal László</td><td>lászló.antal@mail.hu</td><td>LASZLOA</td></tr>",
                            "<tr><td>Nagy László</td><td>lászló.nagy@mail.hu</td><td>LASZLON</td></tr>",
                            "<tr><td>Baráth Mária</td><td>mária.baráth@mail.hu</td><td>maria1</td></tr>",
                            "<tr><td>Kispál Márk</td><td>márk.kispál@mail.hu</td><td>mark</td></tr>",
                            "<tr><td>Horváth Márk</td><td>márk.horváth@mail.hu</td><td>MARKH</td></tr>",
                            "<tr><td>Kalacsi Márton</td><td>marton@gmail.com</td><td>marton</td></tr>",
                            "<tr><td>Koza Máté</td><td>máté.koza@mail.hu</td><td>MATEK</td></tr>",
                            "<tr><td>Botka Mátyás</td><td>matyas2@gmail.com</td><td>matyas2</td></tr>",
                            "<tr><td>Szilágyi Mátyás</td><td>mátyás.szilágyi@mail.hu</td><td>MATYASS</td></tr>",
                            "<tr><td>Juhász Mihály</td><td>mihály.juhász@mail.hu</td><td>MIHALYJ</td></tr>",
                            "<tr><td>Gondos Miklós</td><td>miklos2@gmail.com</td><td>miklos2</td></tr>",
                            "<tr><td>Balla Miklós</td><td>miklós.balla@mail.hu</td><td>MIKLOSB</td></tr>",
                            "<tr><td>Mohos Mónika</td><td>mónika.mohos@mail.hu</td><td>MONIKAM</td></tr>",
                            "<tr><td>Fő Nándor</td><td>nándor.fő@mail.hu</td><td>NANDORF</td></tr>",
                            "<tr><td>Horváth Nikolett</td><td>nikolett3@gmail.com</td><td>nikolett3</td></tr>",
                            "<tr><td>Kő Nikoletta</td><td>nikoletta4@gmail.com</td><td>nikoletta4</td></tr>",
                            "<tr><td>Tatár Nikoletta</td><td>nikoletta.tatár@mail.hu</td><td>NIKOLETTAT</td></tr>",
                            "<tr><td>Szűcs Norbert</td><td>norbert@gmail.com</td><td>norbert</td></tr>",
                            "<tr><td>Hegedűs Norbert</td><td>norbert.hegedűs@mail.hu</td><td>norbert2</td></tr>",
                            "<tr><td>Mile Norbert</td><td>norbert4@gmail.com</td><td>norbert4</td></tr>",
                            "<tr><td>Béres Norbert</td><td>norbert5@gmail.com</td><td>norbert5</td></tr>",
                            "<tr><td>Barabás Pál</td><td>pál.barabás@mail.hu</td><td>pal</td></tr>",
                            "<tr><td>Kozma Péter</td><td>peter1@gmail.com</td><td>peter1</td></tr>",
                            "<tr><td>Bozsó Péter</td><td>peter2@gmail.com</td><td>peter2</td></tr>",
                            "<tr><td>Szalai Péter</td><td>peter3@gmail.com</td><td>peter3</td></tr>",
                            "<tr><td>Bíró Péter</td><td>péter.bíró@mail.hu</td><td>peter4</td></tr>",
                            "<tr><td>Berendi Péter</td><td>péter.berendi@mail.hu</td><td>PETERB</td></tr>",
                            "<tr><td>Palágyi Polla</td><td>polla@gmail.com</td><td>polla</td></tr>",
                            "<tr><td>Rácz Rajmond</td><td>rajmond.rácz@mail.hu</td><td>rajmond4</td></tr>",
                            "<tr><td>Szikszai Réka</td><td>réka.szikszai@mail.hu</td><td>reka4</td></tr>",
                            "<tr><td>Szirmai Renáta</td><td>RENATAS@gmail.com</td><td>RENATAS</td></tr>",
                            "<tr><td>Patay Róbert</td><td>robert2@gmail.com</td><td>robert2</td></tr>",
                            "<tr><td>Iván Róbert</td><td>róbert.iván@mail.hu</td><td>ROBERTI</td></tr>",
                            "<tr><td>Tóth Roland</td><td>roland@gmail.com</td><td>roland</td></tr>",
                            "<tr><td>Ferencz Roland</td><td>roland.ferencz@mail.hu</td><td>roland1</td></tr>",
                            "<tr><td>Bucskó Róza</td><td>roza2@gmail.com</td><td>roza2</td></tr>",
                            "<tr><td>Karasz Sándor</td><td>sandor@gmail.com</td><td>sandor</td></tr>",
                            "<tr><td>Farkas Sándor</td><td>sándor.farkas@mail.hu</td><td>sandor3</td></tr>",
                            "<tr><td>Nagy Sándor</td><td>sandor4@gmail.com</td><td>sandor4</td></tr>",
                            "<tr><td>Farkas Sára</td><td>sára.farkas@mail.hu</td><td>sara</td></tr>",
                            "<tr><td>Foltényi Sebastián</td><td>SEBASTIANF@gmail.com</td><td>SEBASTIANF</td></tr>",
                            "<tr><td>Rab Sebestyén</td><td>sebestyen@gmail.com</td><td>sebestyen</td></tr>",
                            "<tr><td>Miklós Szabolcs</td><td>szabolcs.miklós@mail.hu</td><td>SZABOLCSM</td></tr>",
                            "<tr><td>Szalai Szilárd</td><td>szilárd.szalai@mail.hu</td><td>SZILARDS</td></tr>",
                            "<tr><td>Tari Szilvia</td><td>szilvia.tari@mail.hu</td><td>szilvia1</td></tr>",
                            "<tr><td>Miklós Tamara</td><td>tamara.miklós@mail.hu</td><td>tamara2</td></tr>",
                            "<tr><td>Antal Tamás</td><td>tamás.antal@mail.hu</td><td>tamas</td></tr>",
                            "<tr><td>Fényes Tamás</td><td>TAMASF@gmail.com</td><td>TAMASF</td></tr>",
                            "<tr><td>Gombos Tibor</td><td>tibor.gombos@mail.hu</td><td>tibor</td></tr>",
                            "<tr><td>Kazy Tihamér</td><td>tihamér.kazy@mail.hu</td><td>tihamer</td></tr>",
                            "<tr><td>Dusha Tímea</td><td>tímea.dusha@mail.hu</td><td>timea2</td></tr>",
                            "<tr><td>Turcsik Tünde</td><td>tunde@gmail.com</td><td>tunde</td></tr>",
                            "<tr><td>Feró Valentin</td><td>valentin.feró@mail.hu</td><td>valentin</td></tr>",
                            "<tr><td>Tankó Veronika</td><td>veronika4@gmail.com</td><td>veronika4</td></tr>",
                            "<tr><td>Boros Vivien</td><td>vivien3@gmail.com</td><td>vivien3</td></tr>",
                            "<tr><td>Fodor Zoltán</td><td>zoltán.fodor@mail.hu</td><td>zoltan</td></tr>",
                            "<tr><td>Pintér Zoltán</td><td>zoltán.pintér@mail.hu</td><td>ZOLTANP</td></tr>",
                            "<tr><td>Tóth Zoltán</td><td>zoltán.tóth@mail.hu</td><td>ZOLTANT</td></tr>",
                            "<tr><td>Molnár Zsófi</td><td>zsofi1@gmail.com</td><td>zsofi1</td></tr>",
                            "<tr><td>Józsa Zsolt</td><td>ZSOLTJ@gmail.com</td><td>ZSOLTJ</td></tr>",
                            "<tr><td>Pusztai Zsuzsanna</td><td>zsuzsanna@gmail.com</td><td>zsuzsa</td></tr>",
                            "<tr><td>Varsányi Zsuzsa</td><td>zsuzsa.varsányi@mail.hu</td><td>zsuzsa3</td></tr>",
                            "<tr><td>Barta Zsuzsanna</td><td>zsuzsanna.barta@mail.hu</td><td>zsuzsanna</td></tr>",
                            "<tr><td>Vajda Zsuzsa</td><td>zsuzsa.vajda@mail.hu</td><td>ZSUZSAV</td></tr>",
                            "</table>"
                        ]
                    }
                }
            ],
            "execution_count": 5
        },
        {
            "cell_type": "markdown",
            "source": [
                "2. <span style=\"color: rgb(0, 0, 0); font-family: &quot;Open Sans&quot;, sans-serif; font-size: 14.44px; background-color: rgb(255, 255, 255);\">Listázzuk azon szálláshelyek azonosítóját és nevét, amelyek a saját helyükön (HELY) a legtöbb csillaggal rendelkeznek!</span>"
            ],
            "metadata": {
                "azdata_cell_guid": "4316af6e-eba1-4bd6-951f-616e9e94bebb"
            },
            "attachments": {}
        },
        {
            "cell_type": "code",
            "source": [
                "SELECT sz1.SZALLAS_ID, sz1.SZALLAS_NEV, sz1.CSILLAGOK_SZAMA, SZ1.HELY\r\n",
                "FROM Szallashely sz1\r\n",
                "WHERE sz1.CSILLAGOK_SZAMA = (SELECT MAX(sz2.CSILLAGOK_SZAMA)\r\n",
                "                             FROM Szallashely sz2\r\n",
                "                             WHERE sz1.HELY = sz2.HELY\r\n",
                "                             GROUP BY sz2.HELY)"
            ],
            "metadata": {
                "azdata_cell_guid": "1bfeebd1-5df8-43f1-867a-bc920e8ee5c4",
                "language": "sql"
            },
            "outputs": [
                {
                    "output_type": "display_data",
                    "data": {
                        "text/html": "(11 rows affected)"
                    },
                    "metadata": {}
                },
                {
                    "output_type": "display_data",
                    "data": {
                        "text/html": "Total execution time: 00:00:00.006"
                    },
                    "metadata": {}
                },
                {
                    "output_type": "execute_result",
                    "metadata": {},
                    "execution_count": 13,
                    "data": {
                        "application/vnd.dataresource+json": {
                            "schema": {
                                "fields": [
                                    {
                                        "name": "SZALLAS_ID"
                                    },
                                    {
                                        "name": "SZALLAS_NEV"
                                    },
                                    {
                                        "name": "CSILLAGOK_SZAMA"
                                    },
                                    {
                                        "name": "HELY"
                                    }
                                ]
                            },
                            "data": [
                                {
                                    "SZALLAS_ID": "17",
                                    "SZALLAS_NEV": "Szarvas Hotel",
                                    "CSILLAGOK_SZAMA": "4",
                                    "HELY": "Tolna megye"
                                },
                                {
                                    "SZALLAS_ID": "16",
                                    "SZALLAS_NEV": "Bagoly Hotel",
                                    "CSILLAGOK_SZAMA": "3",
                                    "HELY": "Pest megye"
                                },
                                {
                                    "SZALLAS_ID": "3",
                                    "SZALLAS_NEV": "Fortuna Apartman",
                                    "CSILLAGOK_SZAMA": "0",
                                    "HELY": "Hajdúbihar megye"
                                },
                                {
                                    "SZALLAS_ID": "18",
                                    "SZALLAS_NEV": "Fortuna Apartman",
                                    "CSILLAGOK_SZAMA": "0",
                                    "HELY": "Dél-Somogy"
                                },
                                {
                                    "SZALLAS_ID": "19",
                                    "SZALLAS_NEV": "Nyárfás Vendégház",
                                    "CSILLAGOK_SZAMA": "0",
                                    "HELY": "Dél-Somogy"
                                },
                                {
                                    "SZALLAS_ID": "21",
                                    "SZALLAS_NEV": "Müller Vendégház",
                                    "CSILLAGOK_SZAMA": "0",
                                    "HELY": "Dél-Somogy"
                                },
                                {
                                    "SZALLAS_ID": "13",
                                    "SZALLAS_NEV": "Riviéra Panzió",
                                    "CSILLAGOK_SZAMA": "3",
                                    "HELY": "Csongrád megye"
                                },
                                {
                                    "SZALLAS_ID": "10",
                                    "SZALLAS_NEV": "Lagúna Hotel",
                                    "CSILLAGOK_SZAMA": "4",
                                    "HELY": "Budapest"
                                },
                                {
                                    "SZALLAS_ID": "5",
                                    "SZALLAS_NEV": "Fortuna Panzió",
                                    "CSILLAGOK_SZAMA": "3",
                                    "HELY": "Békés megye"
                                },
                                {
                                    "SZALLAS_ID": "11",
                                    "SZALLAS_NEV": "Partiszél Vendégház",
                                    "CSILLAGOK_SZAMA": "0",
                                    "HELY": "Balaton-észak"
                                },
                                {
                                    "SZALLAS_ID": "8",
                                    "SZALLAS_NEV": "Hotel Három Hattyú",
                                    "CSILLAGOK_SZAMA": "4",
                                    "HELY": "Balaton-dél"
                                }
                            ]
                        },
                        "text/html": [
                            "<table>",
                            "<tr><th>SZALLAS_ID</th><th>SZALLAS_NEV</th><th>CSILLAGOK_SZAMA</th><th>HELY</th></tr>",
                            "<tr><td>17</td><td>Szarvas Hotel</td><td>4</td><td>Tolna megye</td></tr>",
                            "<tr><td>16</td><td>Bagoly Hotel</td><td>3</td><td>Pest megye</td></tr>",
                            "<tr><td>3</td><td>Fortuna Apartman</td><td>0</td><td>Hajdúbihar megye</td></tr>",
                            "<tr><td>18</td><td>Fortuna Apartman</td><td>0</td><td>Dél-Somogy</td></tr>",
                            "<tr><td>19</td><td>Nyárfás Vendégház</td><td>0</td><td>Dél-Somogy</td></tr>",
                            "<tr><td>21</td><td>Müller Vendégház</td><td>0</td><td>Dél-Somogy</td></tr>",
                            "<tr><td>13</td><td>Riviéra Panzió</td><td>3</td><td>Csongrád megye</td></tr>",
                            "<tr><td>10</td><td>Lagúna Hotel</td><td>4</td><td>Budapest</td></tr>",
                            "<tr><td>5</td><td>Fortuna Panzió</td><td>3</td><td>Békés megye</td></tr>",
                            "<tr><td>11</td><td>Partiszél Vendégház</td><td>0</td><td>Balaton-észak</td></tr>",
                            "<tr><td>8</td><td>Hotel Három Hattyú</td><td>4</td><td>Balaton-dél</td></tr>",
                            "</table>"
                        ]
                    }
                }
            ],
            "execution_count": 13
        },
        {
            "cell_type": "markdown",
            "source": [
                "3. Készítsen lekérdezést, amely sorszámozza a vendégeket a foglalások száma alapján\n",
                "    \n",
                "    - A sorszám mellett jelenjen meg a vendég azonosítója, neve és a foglalások száma is\n",
                "    - A legtöbbet foglaló vendég kapja az egyes sorszámot\n",
                "    - Holtverseny esetén a számozás annyit ugorjon, ahány egyforma érték vaN"
            ],
            "metadata": {
                "azdata_cell_guid": "e0466e6b-c5ba-4053-a44e-938fbf8c23c4"
            },
            "attachments": {}
        },
        {
            "cell_type": "code",
            "source": [
                "SELECT RANK() OVER(PARTITION BY v.USERNEV ORDER BY COUNT(*) DESC) AS 'Sorszám', v.USERNEV, v.NEV, COUNT(*) AS 'Foglalások száma'\r\n",
                "FROM Vendeg v JOIN Foglalas f ON v.USERNEV = f.UGYFEL_FK\r\n",
                "GROUP BY v.USERNEV, v.NEV"
            ],
            "metadata": {
                "azdata_cell_guid": "93365d33-a7e0-48b0-a5c0-54e83e0f051e",
                "language": "sql"
            },
            "outputs": [
                {
                    "output_type": "display_data",
                    "data": {
                        "text/html": "(195 rows affected)"
                    },
                    "metadata": {}
                },
                {
                    "output_type": "display_data",
                    "data": {
                        "text/html": "Total execution time: 00:00:00.013"
                    },
                    "metadata": {}
                },
                {
                    "output_type": "execute_result",
                    "metadata": {},
                    "execution_count": 29,
                    "data": {
                        "application/vnd.dataresource+json": {
                            "schema": {
                                "fields": [
                                    {
                                        "name": "Sorszám"
                                    },
                                    {
                                        "name": "USERNEV"
                                    },
                                    {
                                        "name": "NEV"
                                    },
                                    {
                                        "name": "Foglalások száma"
                                    }
                                ]
                            },
                            "data": [
                                {
                                    "Sorszám": "1",
                                    "USERNEV": "adam1",
                                    "NEV": "Kiss Ádám",
                                    "Foglalások száma": "3"
                                },
                                {
                                    "Sorszám": "1",
                                    "USERNEV": "adam3",
                                    "NEV": "Barkóci Ádám",
                                    "Foglalások száma": "2"
                                },
                                {
                                    "Sorszám": "1",
                                    "USERNEV": "adam4",
                                    "NEV": "Bieniek Ádám",
                                    "Foglalások száma": "6"
                                },
                                {
                                    "Sorszám": "1",
                                    "USERNEV": "agnes",
                                    "NEV": "Lengyel Ágnes",
                                    "Foglalások száma": "5"
                                },
                                {
                                    "Sorszám": "1",
                                    "USERNEV": "agnes3",
                                    "NEV": "Hartyánszky Ágnes",
                                    "Foglalások száma": "3"
                                },
                                {
                                    "Sorszám": "1",
                                    "USERNEV": "AGNESH",
                                    "NEV": "Horváth Ágnes",
                                    "Foglalások száma": "6"
                                },
                                {
                                    "Sorszám": "1",
                                    "USERNEV": "AGNESK",
                                    "NEV": "Kovács Ágnes",
                                    "Foglalások száma": "3"
                                },
                                {
                                    "Sorszám": "1",
                                    "USERNEV": "akos",
                                    "NEV": "Bíró Ákos",
                                    "Foglalások száma": "10"
                                },
                                {
                                    "Sorszám": "1",
                                    "USERNEV": "aladar",
                                    "NEV": "Dunai Aladár",
                                    "Foglalások száma": "3"
                                },
                                {
                                    "Sorszám": "1",
                                    "USERNEV": "alexandra",
                                    "NEV": "Bagóczki Alexandra",
                                    "Foglalások száma": "7"
                                },
                                {
                                    "Sorszám": "1",
                                    "USERNEV": "andi",
                                    "NEV": "Maródi Andrea",
                                    "Foglalások száma": "5"
                                },
                                {
                                    "Sorszám": "1",
                                    "USERNEV": "andras2",
                                    "NEV": "Tóth András",
                                    "Foglalások száma": "5"
                                },
                                {
                                    "Sorszám": "1",
                                    "USERNEV": "andras21",
                                    "NEV": "Molnár András",
                                    "Foglalások száma": "7"
                                },
                                {
                                    "Sorszám": "1",
                                    "USERNEV": "andras3",
                                    "NEV": "Vígh András",
                                    "Foglalások száma": "8"
                                },
                                {
                                    "Sorszám": "1",
                                    "USERNEV": "andras4",
                                    "NEV": "Back András",
                                    "Foglalások száma": "3"
                                },
                                {
                                    "Sorszám": "1",
                                    "USERNEV": "andras41",
                                    "NEV": "Komjáti András",
                                    "Foglalások száma": "13"
                                },
                                {
                                    "Sorszám": "1",
                                    "USERNEV": "ANDRASE",
                                    "NEV": "Erdei András",
                                    "Foglalások száma": "5"
                                },
                                {
                                    "Sorszám": "1",
                                    "USERNEV": "ANDRASN",
                                    "NEV": "Nagy András",
                                    "Foglalások száma": "1"
                                },
                                {
                                    "Sorszám": "1",
                                    "USERNEV": "andrea",
                                    "NEV": "Kiss Andrea",
                                    "Foglalások száma": "6"
                                },
                                {
                                    "Sorszám": "1",
                                    "USERNEV": "andrea3",
                                    "NEV": "Szomor Andrea",
                                    "Foglalások száma": "1"
                                },
                                {
                                    "Sorszám": "1",
                                    "USERNEV": "andrea4",
                                    "NEV": "Neizer Andrea",
                                    "Foglalások száma": "4"
                                },
                                {
                                    "Sorszám": "1",
                                    "USERNEV": "ANDREAT",
                                    "NEV": "Tornyos Andrea",
                                    "Foglalások száma": "3"
                                },
                                {
                                    "Sorszám": "1",
                                    "USERNEV": "anett3",
                                    "NEV": "Pivarcsi Anett",
                                    "Foglalások száma": "8"
                                },
                                {
                                    "Sorszám": "1",
                                    "USERNEV": "aniko",
                                    "NEV": "Tóth Anikó",
                                    "Foglalások száma": "3"
                                },
                                {
                                    "Sorszám": "1",
                                    "USERNEV": "aniko4",
                                    "NEV": "Böröcz Anikó",
                                    "Foglalások száma": "4"
                                },
                                {
                                    "Sorszám": "1",
                                    "USERNEV": "ANIKOS",
                                    "NEV": "Simon Anikó",
                                    "Foglalások száma": "9"
                                },
                                {
                                    "Sorszám": "1",
                                    "USERNEV": "anita",
                                    "NEV": "Hamvay-Kovács Anita",
                                    "Foglalások száma": "4"
                                },
                                {
                                    "Sorszám": "1",
                                    "USERNEV": "annamaria1",
                                    "NEV": "Szűcs Annamária",
                                    "Foglalások száma": "2"
                                },
                                {
                                    "Sorszám": "1",
                                    "USERNEV": "ANNAMARIAR",
                                    "NEV": "Regős Annamária",
                                    "Foglalások száma": "6"
                                },
                                {
                                    "Sorszám": "1",
                                    "USERNEV": "aron2",
                                    "NEV": "Jakab Áron",
                                    "Foglalások száma": "6"
                                },
                                {
                                    "Sorszám": "1",
                                    "USERNEV": "ARONK",
                                    "NEV": "Kelemen Áron",
                                    "Foglalások száma": "13"
                                },
                                {
                                    "Sorszám": "1",
                                    "USERNEV": "arpad2",
                                    "NEV": "Ötvös Árpád",
                                    "Foglalások száma": "7"
                                },
                                {
                                    "Sorszám": "1",
                                    "USERNEV": "ARPADH",
                                    "NEV": "Horváth Árpád",
                                    "Foglalások száma": "7"
                                },
                                {
                                    "Sorszám": "1",
                                    "USERNEV": "ARPADM",
                                    "NEV": "Móricz Árpád",
                                    "Foglalások száma": "6"
                                },
                                {
                                    "Sorszám": "1",
                                    "USERNEV": "attila",
                                    "NEV": "Csóti Attila",
                                    "Foglalások száma": "3"
                                },
                                {
                                    "Sorszám": "1",
                                    "USERNEV": "attila1",
                                    "NEV": "Gulyás Attila",
                                    "Foglalások száma": "6"
                                },
                                {
                                    "Sorszám": "1",
                                    "USERNEV": "attila4",
                                    "NEV": "Baróti Attila",
                                    "Foglalások száma": "3"
                                },
                                {
                                    "Sorszám": "1",
                                    "USERNEV": "ATTILAO",
                                    "NEV": "Opra Attila",
                                    "Foglalások száma": "4"
                                },
                                {
                                    "Sorszám": "1",
                                    "USERNEV": "balazs1",
                                    "NEV": "Bozsik Balázs",
                                    "Foglalások száma": "6"
                                },
                                {
                                    "Sorszám": "1",
                                    "USERNEV": "balazs2",
                                    "NEV": "Szűcs Balázs",
                                    "Foglalások száma": "10"
                                },
                                {
                                    "Sorszám": "1",
                                    "USERNEV": "balazs3",
                                    "NEV": "Bakódy Balázs",
                                    "Foglalások száma": "6"
                                },
                                {
                                    "Sorszám": "1",
                                    "USERNEV": "balint",
                                    "NEV": "Horváth Bálint",
                                    "Foglalások száma": "3"
                                },
                                {
                                    "Sorszám": "1",
                                    "USERNEV": "balint1",
                                    "NEV": "Molnár Bálint",
                                    "Foglalások száma": "10"
                                },
                                {
                                    "Sorszám": "1",
                                    "USERNEV": "balint2",
                                    "NEV": "Vukasinovity Bálint",
                                    "Foglalások száma": "2"
                                },
                                {
                                    "Sorszám": "1",
                                    "USERNEV": "balu",
                                    "NEV": "Endresz Bálint",
                                    "Foglalások száma": "2"
                                },
                                {
                                    "Sorszám": "1",
                                    "USERNEV": "beata4",
                                    "NEV": "Bagi Beáta",
                                    "Foglalások száma": "6"
                                },
                                {
                                    "Sorszám": "1",
                                    "USERNEV": "BEATRIXK",
                                    "NEV": "Kerényi Beatrix",
                                    "Foglalások száma": "9"
                                },
                                {
                                    "Sorszám": "1",
                                    "USERNEV": "BEATRIXS",
                                    "NEV": "Szekendi Beatrix",
                                    "Foglalások száma": "6"
                                },
                                {
                                    "Sorszám": "1",
                                    "USERNEV": "BELAF",
                                    "NEV": "Farkas Béla",
                                    "Foglalások száma": "6"
                                },
                                {
                                    "Sorszám": "1",
                                    "USERNEV": "bence",
                                    "NEV": "Győrffy Bence",
                                    "Foglalások száma": "9"
                                },
                                {
                                    "Sorszám": "1",
                                    "USERNEV": "BENCEB",
                                    "NEV": "Bajusz Bence",
                                    "Foglalások száma": "6"
                                },
                                {
                                    "Sorszám": "1",
                                    "USERNEV": "bernadett1",
                                    "NEV": "Simon Bernadett",
                                    "Foglalások száma": "7"
                                },
                                {
                                    "Sorszám": "1",
                                    "USERNEV": "bernadett2",
                                    "NEV": "Kovács Bernadett",
                                    "Foglalások száma": "8"
                                },
                                {
                                    "Sorszám": "1",
                                    "USERNEV": "BERNADETTO",
                                    "NEV": "Orbán Bernadett",
                                    "Foglalások száma": "7"
                                },
                                {
                                    "Sorszám": "1",
                                    "USERNEV": "bertalan",
                                    "NEV": "Csiger Bertalan",
                                    "Foglalások száma": "6"
                                },
                                {
                                    "Sorszám": "1",
                                    "USERNEV": "brigitta",
                                    "NEV": "Székely Brigitta",
                                    "Foglalások száma": "5"
                                },
                                {
                                    "Sorszám": "1",
                                    "USERNEV": "brigitta3",
                                    "NEV": "Pataki Brigitta",
                                    "Foglalások száma": "5"
                                },
                                {
                                    "Sorszám": "1",
                                    "USERNEV": "csongor3",
                                    "NEV": "Nagymihály Csongor",
                                    "Foglalások száma": "8"
                                },
                                {
                                    "Sorszám": "1",
                                    "USERNEV": "dani",
                                    "NEV": "Vörös Dániel",
                                    "Foglalások száma": "9"
                                },
                                {
                                    "Sorszám": "1",
                                    "USERNEV": "daniel",
                                    "NEV": "Rácz Dániel",
                                    "Foglalások száma": "9"
                                },
                                {
                                    "Sorszám": "1",
                                    "USERNEV": "daniel1",
                                    "NEV": "Keszler Dániel",
                                    "Foglalások száma": "7"
                                },
                                {
                                    "Sorszám": "1",
                                    "USERNEV": "david",
                                    "NEV": "Ambrus Dávid",
                                    "Foglalások száma": "9"
                                },
                                {
                                    "Sorszám": "1",
                                    "USERNEV": "david1",
                                    "NEV": "Sobják Dávid",
                                    "Foglalások száma": "6"
                                },
                                {
                                    "Sorszám": "1",
                                    "USERNEV": "david4",
                                    "NEV": "Berta Dávid",
                                    "Foglalások száma": "1"
                                },
                                {
                                    "Sorszám": "1",
                                    "USERNEV": "debora",
                                    "NEV": "Barna Debóra",
                                    "Foglalások száma": "4"
                                },
                                {
                                    "Sorszám": "1",
                                    "USERNEV": "denes",
                                    "NEV": "Tömböly Dénes",
                                    "Foglalások száma": "6"
                                },
                                {
                                    "Sorszám": "1",
                                    "USERNEV": "dora3",
                                    "NEV": "Sarodi Dóra",
                                    "Foglalások száma": "5"
                                },
                                {
                                    "Sorszám": "1",
                                    "USERNEV": "edit",
                                    "NEV": "Bittmann Edit",
                                    "Foglalások száma": "7"
                                },
                                {
                                    "Sorszám": "1",
                                    "USERNEV": "emese",
                                    "NEV": "Kuruc Emese",
                                    "Foglalások száma": "7"
                                },
                                {
                                    "Sorszám": "1",
                                    "USERNEV": "eszter",
                                    "NEV": "Molnár Eszter",
                                    "Foglalások száma": "4"
                                },
                                {
                                    "Sorszám": "1",
                                    "USERNEV": "eszter2",
                                    "NEV": "Balogh Eszter",
                                    "Foglalások száma": "10"
                                },
                                {
                                    "Sorszám": "1",
                                    "USERNEV": "eszter4",
                                    "NEV": "Fülöp Eszter",
                                    "Foglalások száma": "3"
                                },
                                {
                                    "Sorszám": "1",
                                    "USERNEV": "ESZTERE",
                                    "NEV": "Érsek Eszter",
                                    "Foglalások száma": "4"
                                },
                                {
                                    "Sorszám": "1",
                                    "USERNEV": "eva",
                                    "NEV": "Enyedi Éva",
                                    "Foglalások száma": "2"
                                },
                                {
                                    "Sorszám": "1",
                                    "USERNEV": "eva2",
                                    "NEV": "Perlinger Éva",
                                    "Foglalások száma": "4"
                                },
                                {
                                    "Sorszám": "1",
                                    "USERNEV": "EVAV",
                                    "NEV": "Viktor Éva",
                                    "Foglalások száma": "5"
                                },
                                {
                                    "Sorszám": "1",
                                    "USERNEV": "ferenc1",
                                    "NEV": "Orosz Ferenc",
                                    "Foglalások száma": "4"
                                },
                                {
                                    "Sorszám": "1",
                                    "USERNEV": "fruzsina4",
                                    "NEV": "Frank Fruzsina",
                                    "Foglalások száma": "8"
                                },
                                {
                                    "Sorszám": "1",
                                    "USERNEV": "gabor1",
                                    "NEV": "Köves Gábor",
                                    "Foglalások száma": "6"
                                },
                                {
                                    "Sorszám": "1",
                                    "USERNEV": "gabor4",
                                    "NEV": "Telek Gábor",
                                    "Foglalások száma": "4"
                                },
                                {
                                    "Sorszám": "1",
                                    "USERNEV": "gabriella1",
                                    "NEV": "Nagy Gabriella",
                                    "Foglalások száma": "6"
                                },
                                {
                                    "Sorszám": "1",
                                    "USERNEV": "gabriella10",
                                    "NEV": "Vida Gabriella",
                                    "Foglalások száma": "1"
                                },
                                {
                                    "Sorszám": "1",
                                    "USERNEV": "georgij",
                                    "NEV": "Nyíri Georgij",
                                    "Foglalások száma": "4"
                                },
                                {
                                    "Sorszám": "1",
                                    "USERNEV": "gusztav",
                                    "NEV": "Bárci Gusztáv",
                                    "Foglalások száma": "5"
                                },
                                {
                                    "Sorszám": "1",
                                    "USERNEV": "GYONGYIK",
                                    "NEV": "Kornseé Gyöngyi",
                                    "Foglalások száma": "7"
                                },
                                {
                                    "Sorszám": "1",
                                    "USERNEV": "GYORGYO",
                                    "NEV": "Oroszi György",
                                    "Foglalások száma": "8"
                                },
                                {
                                    "Sorszám": "1",
                                    "USERNEV": "henrik3",
                                    "NEV": "Nádudvari Henrik",
                                    "Foglalások száma": "3"
                                },
                                {
                                    "Sorszám": "1",
                                    "USERNEV": "IBOLYAA",
                                    "NEV": "Andor Ibolya",
                                    "Foglalások száma": "3"
                                },
                                {
                                    "Sorszám": "1",
                                    "USERNEV": "ilona3",
                                    "NEV": "Bosnyák Ilona",
                                    "Foglalások száma": "4"
                                },
                                {
                                    "Sorszám": "1",
                                    "USERNEV": "imre",
                                    "NEV": "Búza Imre",
                                    "Foglalások száma": "2"
                                },
                                {
                                    "Sorszám": "1",
                                    "USERNEV": "imre1",
                                    "NEV": "Papp Imre",
                                    "Foglalások száma": "7"
                                },
                                {
                                    "Sorszám": "1",
                                    "USERNEV": "istvan",
                                    "NEV": "Soós István",
                                    "Foglalások száma": "3"
                                },
                                {
                                    "Sorszám": "1",
                                    "USERNEV": "istvan1",
                                    "NEV": "Vizi István",
                                    "Foglalások száma": "4"
                                },
                                {
                                    "Sorszám": "1",
                                    "USERNEV": "ISTVANV",
                                    "NEV": "Varga István",
                                    "Foglalások száma": "2"
                                },
                                {
                                    "Sorszám": "1",
                                    "USERNEV": "janos3",
                                    "NEV": "Harangozó János",
                                    "Foglalások száma": "5"
                                },
                                {
                                    "Sorszám": "1",
                                    "USERNEV": "JANOSG",
                                    "NEV": "Giliga János",
                                    "Foglalások száma": "7"
                                },
                                {
                                    "Sorszám": "1",
                                    "USERNEV": "JANOSP",
                                    "NEV": "Pálinkás János",
                                    "Foglalások száma": "4"
                                },
                                {
                                    "Sorszám": "1",
                                    "USERNEV": "jozsef",
                                    "NEV": "Gergely József",
                                    "Foglalások száma": "3"
                                },
                                {
                                    "Sorszám": "1",
                                    "USERNEV": "jozsef2",
                                    "NEV": "Vajda József",
                                    "Foglalások száma": "5"
                                },
                                {
                                    "Sorszám": "1",
                                    "USERNEV": "JOZSEFG",
                                    "NEV": "Gyuris József",
                                    "Foglalások száma": "7"
                                },
                                {
                                    "Sorszám": "1",
                                    "USERNEV": "JUDITH",
                                    "NEV": "Hídasi Judit",
                                    "Foglalások száma": "3"
                                },
                                {
                                    "Sorszám": "1",
                                    "USERNEV": "julia",
                                    "NEV": "Tóth Júlia",
                                    "Foglalások száma": "5"
                                },
                                {
                                    "Sorszám": "1",
                                    "USERNEV": "julia4",
                                    "NEV": "Nagy Júlia",
                                    "Foglalások száma": "2"
                                },
                                {
                                    "Sorszám": "1",
                                    "USERNEV": "julianna4",
                                    "NEV": "Szabó Julianna",
                                    "Foglalások száma": "4"
                                },
                                {
                                    "Sorszám": "1",
                                    "USERNEV": "kata",
                                    "NEV": "Gondos Katalin",
                                    "Foglalások száma": "10"
                                },
                                {
                                    "Sorszám": "1",
                                    "USERNEV": "katalin",
                                    "NEV": "Horváth Katalin",
                                    "Foglalások száma": "9"
                                },
                                {
                                    "Sorszám": "1",
                                    "USERNEV": "katalin4",
                                    "NEV": "Kertész Katalin",
                                    "Foglalások száma": "6"
                                },
                                {
                                    "Sorszám": "1",
                                    "USERNEV": "kati",
                                    "NEV": "Zatykó Katalin",
                                    "Foglalások száma": "7"
                                },
                                {
                                    "Sorszám": "1",
                                    "USERNEV": "katka",
                                    "NEV": "Kovács Katalin",
                                    "Foglalások száma": "9"
                                },
                                {
                                    "Sorszám": "1",
                                    "USERNEV": "klaudia2",
                                    "NEV": "Bakó Klaudia",
                                    "Foglalások száma": "3"
                                },
                                {
                                    "Sorszám": "1",
                                    "USERNEV": "kornel4",
                                    "NEV": "Lukács Kornél",
                                    "Foglalások száma": "3"
                                },
                                {
                                    "Sorszám": "1",
                                    "USERNEV": "kristof4",
                                    "NEV": "Poprádi Kristóf",
                                    "Foglalások száma": "2"
                                },
                                {
                                    "Sorszám": "1",
                                    "USERNEV": "kriszti",
                                    "NEV": "Horváth Krisztina",
                                    "Foglalások száma": "6"
                                },
                                {
                                    "Sorszám": "1",
                                    "USERNEV": "krisztian4",
                                    "NEV": "Czérna Krisztián",
                                    "Foglalások száma": "12"
                                },
                                {
                                    "Sorszám": "1",
                                    "USERNEV": "KRISZTIANM",
                                    "NEV": "Mogyródi Krisztián",
                                    "Foglalások száma": "6"
                                },
                                {
                                    "Sorszám": "1",
                                    "USERNEV": "krisztina",
                                    "NEV": "Szedlár Krisztina",
                                    "Foglalások száma": "8"
                                },
                                {
                                    "Sorszám": "1",
                                    "USERNEV": "krisztina1",
                                    "NEV": "Bori Krisztina",
                                    "Foglalások száma": "6"
                                },
                                {
                                    "Sorszám": "1",
                                    "USERNEV": "KRISZTINAG",
                                    "NEV": "Gyárfás Krisztina",
                                    "Foglalások száma": "5"
                                },
                                {
                                    "Sorszám": "1",
                                    "USERNEV": "lajos",
                                    "NEV": "Kiss Lajos",
                                    "Foglalások száma": "3"
                                },
                                {
                                    "Sorszám": "1",
                                    "USERNEV": "lala",
                                    "NEV": "Nagymihály Lajos",
                                    "Foglalások száma": "6"
                                },
                                {
                                    "Sorszám": "1",
                                    "USERNEV": "laszlo1",
                                    "NEV": "Farkas László",
                                    "Foglalások száma": "1"
                                },
                                {
                                    "Sorszám": "1",
                                    "USERNEV": "laszlo2",
                                    "NEV": "Móra László",
                                    "Foglalások száma": "5"
                                },
                                {
                                    "Sorszám": "1",
                                    "USERNEV": "LASZLOA",
                                    "NEV": "Antal László",
                                    "Foglalások száma": "4"
                                },
                                {
                                    "Sorszám": "1",
                                    "USERNEV": "LASZLON",
                                    "NEV": "Nagy László",
                                    "Foglalások száma": "6"
                                },
                                {
                                    "Sorszám": "1",
                                    "USERNEV": "maria1",
                                    "NEV": "Baráth Mária",
                                    "Foglalások száma": "8"
                                },
                                {
                                    "Sorszám": "1",
                                    "USERNEV": "mark",
                                    "NEV": "Kispál Márk",
                                    "Foglalások száma": "5"
                                },
                                {
                                    "Sorszám": "1",
                                    "USERNEV": "MARKH",
                                    "NEV": "Horváth Márk",
                                    "Foglalások száma": "4"
                                },
                                {
                                    "Sorszám": "1",
                                    "USERNEV": "marton",
                                    "NEV": "Kalacsi Márton",
                                    "Foglalások száma": "7"
                                },
                                {
                                    "Sorszám": "1",
                                    "USERNEV": "MATEK",
                                    "NEV": "Koza Máté",
                                    "Foglalások száma": "3"
                                },
                                {
                                    "Sorszám": "1",
                                    "USERNEV": "matyas2",
                                    "NEV": "Botka Mátyás",
                                    "Foglalások száma": "2"
                                },
                                {
                                    "Sorszám": "1",
                                    "USERNEV": "MATYASS",
                                    "NEV": "Szilágyi Mátyás",
                                    "Foglalások száma": "8"
                                },
                                {
                                    "Sorszám": "1",
                                    "USERNEV": "MIHALYJ",
                                    "NEV": "Juhász Mihály",
                                    "Foglalások száma": "5"
                                },
                                {
                                    "Sorszám": "1",
                                    "USERNEV": "miklos2",
                                    "NEV": "Gondos Miklós",
                                    "Foglalások száma": "3"
                                },
                                {
                                    "Sorszám": "1",
                                    "USERNEV": "MIKLOSB",
                                    "NEV": "Balla Miklós",
                                    "Foglalások száma": "3"
                                },
                                {
                                    "Sorszám": "1",
                                    "USERNEV": "MONIKAM",
                                    "NEV": "Mohos Mónika",
                                    "Foglalások száma": "6"
                                },
                                {
                                    "Sorszám": "1",
                                    "USERNEV": "NANDORF",
                                    "NEV": "Fő Nándor",
                                    "Foglalások száma": "3"
                                },
                                {
                                    "Sorszám": "1",
                                    "USERNEV": "nikolett3",
                                    "NEV": "Horváth Nikolett",
                                    "Foglalások száma": "4"
                                },
                                {
                                    "Sorszám": "1",
                                    "USERNEV": "nikoletta4",
                                    "NEV": "Kő Nikoletta",
                                    "Foglalások száma": "7"
                                },
                                {
                                    "Sorszám": "1",
                                    "USERNEV": "NIKOLETTAT",
                                    "NEV": "Tatár Nikoletta",
                                    "Foglalások száma": "4"
                                },
                                {
                                    "Sorszám": "1",
                                    "USERNEV": "norbert",
                                    "NEV": "Szűcs Norbert",
                                    "Foglalások száma": "5"
                                },
                                {
                                    "Sorszám": "1",
                                    "USERNEV": "norbert2",
                                    "NEV": "Hegedűs Norbert",
                                    "Foglalások száma": "7"
                                },
                                {
                                    "Sorszám": "1",
                                    "USERNEV": "norbert4",
                                    "NEV": "Mile Norbert",
                                    "Foglalások száma": "9"
                                },
                                {
                                    "Sorszám": "1",
                                    "USERNEV": "norbert5",
                                    "NEV": "Béres Norbert",
                                    "Foglalások száma": "3"
                                },
                                {
                                    "Sorszám": "1",
                                    "USERNEV": "pal",
                                    "NEV": "Barabás Pál",
                                    "Foglalások száma": "5"
                                },
                                {
                                    "Sorszám": "1",
                                    "USERNEV": "peter1",
                                    "NEV": "Kozma Péter",
                                    "Foglalások száma": "4"
                                },
                                {
                                    "Sorszám": "1",
                                    "USERNEV": "peter2",
                                    "NEV": "Bozsó Péter",
                                    "Foglalások száma": "4"
                                },
                                {
                                    "Sorszám": "1",
                                    "USERNEV": "peter3",
                                    "NEV": "Szalai Péter",
                                    "Foglalások száma": "6"
                                },
                                {
                                    "Sorszám": "1",
                                    "USERNEV": "peter4",
                                    "NEV": "Bíró Péter",
                                    "Foglalások száma": "12"
                                },
                                {
                                    "Sorszám": "1",
                                    "USERNEV": "PETERB",
                                    "NEV": "Berendi Péter",
                                    "Foglalások száma": "5"
                                },
                                {
                                    "Sorszám": "1",
                                    "USERNEV": "polla",
                                    "NEV": "Palágyi Polla",
                                    "Foglalások száma": "6"
                                },
                                {
                                    "Sorszám": "1",
                                    "USERNEV": "rajmond4",
                                    "NEV": "Rácz Rajmond",
                                    "Foglalások száma": "4"
                                },
                                {
                                    "Sorszám": "1",
                                    "USERNEV": "reka4",
                                    "NEV": "Szikszai Réka",
                                    "Foglalások száma": "5"
                                },
                                {
                                    "Sorszám": "1",
                                    "USERNEV": "RENATAK",
                                    "NEV": "Kardos Renáta",
                                    "Foglalások száma": "6"
                                },
                                {
                                    "Sorszám": "1",
                                    "USERNEV": "RENATAS",
                                    "NEV": "Szirmai Renáta",
                                    "Foglalások száma": "5"
                                },
                                {
                                    "Sorszám": "1",
                                    "USERNEV": "robert2",
                                    "NEV": "Patay Róbert",
                                    "Foglalások száma": "4"
                                },
                                {
                                    "Sorszám": "1",
                                    "USERNEV": "ROBERTI",
                                    "NEV": "Iván Róbert",
                                    "Foglalások száma": "8"
                                },
                                {
                                    "Sorszám": "1",
                                    "USERNEV": "ROBERTP",
                                    "NEV": "Pásztor Róbert",
                                    "Foglalások száma": "2"
                                },
                                {
                                    "Sorszám": "1",
                                    "USERNEV": "roland",
                                    "NEV": "Tóth Roland",
                                    "Foglalások száma": "4"
                                },
                                {
                                    "Sorszám": "1",
                                    "USERNEV": "roland1",
                                    "NEV": "Ferencz Roland",
                                    "Foglalások száma": "4"
                                },
                                {
                                    "Sorszám": "1",
                                    "USERNEV": "roza2",
                                    "NEV": "Bucskó Róza",
                                    "Foglalások száma": "3"
                                },
                                {
                                    "Sorszám": "1",
                                    "USERNEV": "sandor",
                                    "NEV": "Karasz Sándor",
                                    "Foglalások száma": "4"
                                },
                                {
                                    "Sorszám": "1",
                                    "USERNEV": "sandor3",
                                    "NEV": "Farkas Sándor",
                                    "Foglalások száma": "5"
                                },
                                {
                                    "Sorszám": "1",
                                    "USERNEV": "sandor4",
                                    "NEV": "Nagy Sándor",
                                    "Foglalások száma": "4"
                                },
                                {
                                    "Sorszám": "1",
                                    "USERNEV": "sara",
                                    "NEV": "Farkas Sára",
                                    "Foglalások száma": "12"
                                },
                                {
                                    "Sorszám": "1",
                                    "USERNEV": "SEBASTIANF",
                                    "NEV": "Foltényi Sebastián",
                                    "Foglalások száma": "5"
                                },
                                {
                                    "Sorszám": "1",
                                    "USERNEV": "sebestyen",
                                    "NEV": "Rab Sebestyén",
                                    "Foglalások száma": "4"
                                },
                                {
                                    "Sorszám": "1",
                                    "USERNEV": "szabolcs",
                                    "NEV": "Bodor Szabolcs",
                                    "Foglalások száma": "1"
                                },
                                {
                                    "Sorszám": "1",
                                    "USERNEV": "SZABOLCSM",
                                    "NEV": "Miklós Szabolcs",
                                    "Foglalások száma": "7"
                                },
                                {
                                    "Sorszám": "1",
                                    "USERNEV": "SZILARDS",
                                    "NEV": "Szalai Szilárd",
                                    "Foglalások száma": "7"
                                },
                                {
                                    "Sorszám": "1",
                                    "USERNEV": "szilvia1",
                                    "NEV": "Tari Szilvia",
                                    "Foglalások száma": "9"
                                },
                                {
                                    "Sorszám": "1",
                                    "USERNEV": "tamara2",
                                    "NEV": "Miklós Tamara",
                                    "Foglalások száma": "2"
                                },
                                {
                                    "Sorszám": "1",
                                    "USERNEV": "tamas",
                                    "NEV": "Antal Tamás",
                                    "Foglalások száma": "4"
                                },
                                {
                                    "Sorszám": "1",
                                    "USERNEV": "TAMASF",
                                    "NEV": "Fényes Tamás",
                                    "Foglalások száma": "9"
                                },
                                {
                                    "Sorszám": "1",
                                    "USERNEV": "tibor",
                                    "NEV": "Gombos Tibor",
                                    "Foglalások száma": "2"
                                },
                                {
                                    "Sorszám": "1",
                                    "USERNEV": "tibor2",
                                    "NEV": "Dániel Tibor",
                                    "Foglalások száma": "1"
                                },
                                {
                                    "Sorszám": "1",
                                    "USERNEV": "tihamer",
                                    "NEV": "Kazy Tihamér",
                                    "Foglalások száma": "6"
                                },
                                {
                                    "Sorszám": "1",
                                    "USERNEV": "timea",
                                    "NEV": "Papós Tímea",
                                    "Foglalások száma": "1"
                                },
                                {
                                    "Sorszám": "1",
                                    "USERNEV": "timea2",
                                    "NEV": "Dusha Tímea",
                                    "Foglalások száma": "5"
                                },
                                {
                                    "Sorszám": "1",
                                    "USERNEV": "tunde",
                                    "NEV": "Turcsik Tünde",
                                    "Foglalások száma": "8"
                                },
                                {
                                    "Sorszám": "1",
                                    "USERNEV": "valentin",
                                    "NEV": "Feró Valentin",
                                    "Foglalások száma": "5"
                                },
                                {
                                    "Sorszám": "1",
                                    "USERNEV": "veronika4",
                                    "NEV": "Tankó Veronika",
                                    "Foglalások száma": "6"
                                },
                                {
                                    "Sorszám": "1",
                                    "USERNEV": "VIKTORIAU",
                                    "NEV": "Urbán Viktoria",
                                    "Foglalások száma": "4"
                                },
                                {
                                    "Sorszám": "1",
                                    "USERNEV": "VIKTORK",
                                    "NEV": "Keresztúri Viktor",
                                    "Foglalások száma": "2"
                                },
                                {
                                    "Sorszám": "1",
                                    "USERNEV": "vivien3",
                                    "NEV": "Boros Vivien",
                                    "Foglalások száma": "7"
                                },
                                {
                                    "Sorszám": "1",
                                    "USERNEV": "zoltan",
                                    "NEV": "Fodor Zoltán",
                                    "Foglalások száma": "2"
                                },
                                {
                                    "Sorszám": "1",
                                    "USERNEV": "zoltan4",
                                    "NEV": "Barna Zoltán",
                                    "Foglalások száma": "12"
                                },
                                {
                                    "Sorszám": "1",
                                    "USERNEV": "ZOLTANP",
                                    "NEV": "Pintér Zoltán",
                                    "Foglalások száma": "6"
                                },
                                {
                                    "Sorszám": "1",
                                    "USERNEV": "ZOLTANT",
                                    "NEV": "Tóth Zoltán",
                                    "Foglalások száma": "3"
                                },
                                {
                                    "Sorszám": "1",
                                    "USERNEV": "zsofi1",
                                    "NEV": "Molnár Zsófi",
                                    "Foglalások száma": "2"
                                },
                                {
                                    "Sorszám": "1",
                                    "USERNEV": "zsolt1",
                                    "NEV": "Pulai Zsolt",
                                    "Foglalások száma": "4"
                                },
                                {
                                    "Sorszám": "1",
                                    "USERNEV": "ZSOLTJ",
                                    "NEV": "Józsa Zsolt",
                                    "Foglalások száma": "6"
                                },
                                {
                                    "Sorszám": "1",
                                    "USERNEV": "zsuzsa",
                                    "NEV": "Pusztai Zsuzsanna",
                                    "Foglalások száma": "3"
                                },
                                {
                                    "Sorszám": "1",
                                    "USERNEV": "zsuzsa3",
                                    "NEV": "Varsányi Zsuzsa",
                                    "Foglalások száma": "4"
                                },
                                {
                                    "Sorszám": "1",
                                    "USERNEV": "zsuzsanna",
                                    "NEV": "Barta Zsuzsanna",
                                    "Foglalások száma": "4"
                                },
                                {
                                    "Sorszám": "1",
                                    "USERNEV": "ZSUZSAV",
                                    "NEV": "Vajda Zsuzsa",
                                    "Foglalások száma": "6"
                                }
                            ]
                        },
                        "text/html": [
                            "<table>",
                            "<tr><th>Sorszám</th><th>USERNEV</th><th>NEV</th><th>Foglalások száma</th></tr>",
                            "<tr><td>1</td><td>adam1</td><td>Kiss Ádám</td><td>3</td></tr>",
                            "<tr><td>1</td><td>adam3</td><td>Barkóci Ádám</td><td>2</td></tr>",
                            "<tr><td>1</td><td>adam4</td><td>Bieniek Ádám</td><td>6</td></tr>",
                            "<tr><td>1</td><td>agnes</td><td>Lengyel Ágnes</td><td>5</td></tr>",
                            "<tr><td>1</td><td>agnes3</td><td>Hartyánszky Ágnes</td><td>3</td></tr>",
                            "<tr><td>1</td><td>AGNESH</td><td>Horváth Ágnes</td><td>6</td></tr>",
                            "<tr><td>1</td><td>AGNESK</td><td>Kovács Ágnes</td><td>3</td></tr>",
                            "<tr><td>1</td><td>akos</td><td>Bíró Ákos</td><td>10</td></tr>",
                            "<tr><td>1</td><td>aladar</td><td>Dunai Aladár</td><td>3</td></tr>",
                            "<tr><td>1</td><td>alexandra</td><td>Bagóczki Alexandra</td><td>7</td></tr>",
                            "<tr><td>1</td><td>andi</td><td>Maródi Andrea</td><td>5</td></tr>",
                            "<tr><td>1</td><td>andras2</td><td>Tóth András</td><td>5</td></tr>",
                            "<tr><td>1</td><td>andras21</td><td>Molnár András</td><td>7</td></tr>",
                            "<tr><td>1</td><td>andras3</td><td>Vígh András</td><td>8</td></tr>",
                            "<tr><td>1</td><td>andras4</td><td>Back András</td><td>3</td></tr>",
                            "<tr><td>1</td><td>andras41</td><td>Komjáti András</td><td>13</td></tr>",
                            "<tr><td>1</td><td>ANDRASE</td><td>Erdei András</td><td>5</td></tr>",
                            "<tr><td>1</td><td>ANDRASN</td><td>Nagy András</td><td>1</td></tr>",
                            "<tr><td>1</td><td>andrea</td><td>Kiss Andrea</td><td>6</td></tr>",
                            "<tr><td>1</td><td>andrea3</td><td>Szomor Andrea</td><td>1</td></tr>",
                            "<tr><td>1</td><td>andrea4</td><td>Neizer Andrea</td><td>4</td></tr>",
                            "<tr><td>1</td><td>ANDREAT</td><td>Tornyos Andrea</td><td>3</td></tr>",
                            "<tr><td>1</td><td>anett3</td><td>Pivarcsi Anett</td><td>8</td></tr>",
                            "<tr><td>1</td><td>aniko</td><td>Tóth Anikó</td><td>3</td></tr>",
                            "<tr><td>1</td><td>aniko4</td><td>Böröcz Anikó</td><td>4</td></tr>",
                            "<tr><td>1</td><td>ANIKOS</td><td>Simon Anikó</td><td>9</td></tr>",
                            "<tr><td>1</td><td>anita</td><td>Hamvay-Kovács Anita</td><td>4</td></tr>",
                            "<tr><td>1</td><td>annamaria1</td><td>Szűcs Annamária</td><td>2</td></tr>",
                            "<tr><td>1</td><td>ANNAMARIAR</td><td>Regős Annamária</td><td>6</td></tr>",
                            "<tr><td>1</td><td>aron2</td><td>Jakab Áron</td><td>6</td></tr>",
                            "<tr><td>1</td><td>ARONK</td><td>Kelemen Áron</td><td>13</td></tr>",
                            "<tr><td>1</td><td>arpad2</td><td>Ötvös Árpád</td><td>7</td></tr>",
                            "<tr><td>1</td><td>ARPADH</td><td>Horváth Árpád</td><td>7</td></tr>",
                            "<tr><td>1</td><td>ARPADM</td><td>Móricz Árpád</td><td>6</td></tr>",
                            "<tr><td>1</td><td>attila</td><td>Csóti Attila</td><td>3</td></tr>",
                            "<tr><td>1</td><td>attila1</td><td>Gulyás Attila</td><td>6</td></tr>",
                            "<tr><td>1</td><td>attila4</td><td>Baróti Attila</td><td>3</td></tr>",
                            "<tr><td>1</td><td>ATTILAO</td><td>Opra Attila</td><td>4</td></tr>",
                            "<tr><td>1</td><td>balazs1</td><td>Bozsik Balázs</td><td>6</td></tr>",
                            "<tr><td>1</td><td>balazs2</td><td>Szűcs Balázs</td><td>10</td></tr>",
                            "<tr><td>1</td><td>balazs3</td><td>Bakódy Balázs</td><td>6</td></tr>",
                            "<tr><td>1</td><td>balint</td><td>Horváth Bálint</td><td>3</td></tr>",
                            "<tr><td>1</td><td>balint1</td><td>Molnár Bálint</td><td>10</td></tr>",
                            "<tr><td>1</td><td>balint2</td><td>Vukasinovity Bálint</td><td>2</td></tr>",
                            "<tr><td>1</td><td>balu</td><td>Endresz Bálint</td><td>2</td></tr>",
                            "<tr><td>1</td><td>beata4</td><td>Bagi Beáta</td><td>6</td></tr>",
                            "<tr><td>1</td><td>BEATRIXK</td><td>Kerényi Beatrix</td><td>9</td></tr>",
                            "<tr><td>1</td><td>BEATRIXS</td><td>Szekendi Beatrix</td><td>6</td></tr>",
                            "<tr><td>1</td><td>BELAF</td><td>Farkas Béla</td><td>6</td></tr>",
                            "<tr><td>1</td><td>bence</td><td>Győrffy Bence</td><td>9</td></tr>",
                            "<tr><td>1</td><td>BENCEB</td><td>Bajusz Bence</td><td>6</td></tr>",
                            "<tr><td>1</td><td>bernadett1</td><td>Simon Bernadett</td><td>7</td></tr>",
                            "<tr><td>1</td><td>bernadett2</td><td>Kovács Bernadett</td><td>8</td></tr>",
                            "<tr><td>1</td><td>BERNADETTO</td><td>Orbán Bernadett</td><td>7</td></tr>",
                            "<tr><td>1</td><td>bertalan</td><td>Csiger Bertalan</td><td>6</td></tr>",
                            "<tr><td>1</td><td>brigitta</td><td>Székely Brigitta</td><td>5</td></tr>",
                            "<tr><td>1</td><td>brigitta3</td><td>Pataki Brigitta</td><td>5</td></tr>",
                            "<tr><td>1</td><td>csongor3</td><td>Nagymihály Csongor</td><td>8</td></tr>",
                            "<tr><td>1</td><td>dani</td><td>Vörös Dániel</td><td>9</td></tr>",
                            "<tr><td>1</td><td>daniel</td><td>Rácz Dániel</td><td>9</td></tr>",
                            "<tr><td>1</td><td>daniel1</td><td>Keszler Dániel</td><td>7</td></tr>",
                            "<tr><td>1</td><td>david</td><td>Ambrus Dávid</td><td>9</td></tr>",
                            "<tr><td>1</td><td>david1</td><td>Sobják Dávid</td><td>6</td></tr>",
                            "<tr><td>1</td><td>david4</td><td>Berta Dávid</td><td>1</td></tr>",
                            "<tr><td>1</td><td>debora</td><td>Barna Debóra</td><td>4</td></tr>",
                            "<tr><td>1</td><td>denes</td><td>Tömböly Dénes</td><td>6</td></tr>",
                            "<tr><td>1</td><td>dora3</td><td>Sarodi Dóra</td><td>5</td></tr>",
                            "<tr><td>1</td><td>edit</td><td>Bittmann Edit</td><td>7</td></tr>",
                            "<tr><td>1</td><td>emese</td><td>Kuruc Emese</td><td>7</td></tr>",
                            "<tr><td>1</td><td>eszter</td><td>Molnár Eszter</td><td>4</td></tr>",
                            "<tr><td>1</td><td>eszter2</td><td>Balogh Eszter</td><td>10</td></tr>",
                            "<tr><td>1</td><td>eszter4</td><td>Fülöp Eszter</td><td>3</td></tr>",
                            "<tr><td>1</td><td>ESZTERE</td><td>Érsek Eszter</td><td>4</td></tr>",
                            "<tr><td>1</td><td>eva</td><td>Enyedi Éva</td><td>2</td></tr>",
                            "<tr><td>1</td><td>eva2</td><td>Perlinger Éva</td><td>4</td></tr>",
                            "<tr><td>1</td><td>EVAV</td><td>Viktor Éva</td><td>5</td></tr>",
                            "<tr><td>1</td><td>ferenc1</td><td>Orosz Ferenc</td><td>4</td></tr>",
                            "<tr><td>1</td><td>fruzsina4</td><td>Frank Fruzsina</td><td>8</td></tr>",
                            "<tr><td>1</td><td>gabor1</td><td>Köves Gábor</td><td>6</td></tr>",
                            "<tr><td>1</td><td>gabor4</td><td>Telek Gábor</td><td>4</td></tr>",
                            "<tr><td>1</td><td>gabriella1</td><td>Nagy Gabriella</td><td>6</td></tr>",
                            "<tr><td>1</td><td>gabriella10</td><td>Vida Gabriella</td><td>1</td></tr>",
                            "<tr><td>1</td><td>georgij</td><td>Nyíri Georgij</td><td>4</td></tr>",
                            "<tr><td>1</td><td>gusztav</td><td>Bárci Gusztáv</td><td>5</td></tr>",
                            "<tr><td>1</td><td>GYONGYIK</td><td>Kornseé Gyöngyi</td><td>7</td></tr>",
                            "<tr><td>1</td><td>GYORGYO</td><td>Oroszi György</td><td>8</td></tr>",
                            "<tr><td>1</td><td>henrik3</td><td>Nádudvari Henrik</td><td>3</td></tr>",
                            "<tr><td>1</td><td>IBOLYAA</td><td>Andor Ibolya</td><td>3</td></tr>",
                            "<tr><td>1</td><td>ilona3</td><td>Bosnyák Ilona</td><td>4</td></tr>",
                            "<tr><td>1</td><td>imre</td><td>Búza Imre</td><td>2</td></tr>",
                            "<tr><td>1</td><td>imre1</td><td>Papp Imre</td><td>7</td></tr>",
                            "<tr><td>1</td><td>istvan</td><td>Soós István</td><td>3</td></tr>",
                            "<tr><td>1</td><td>istvan1</td><td>Vizi István</td><td>4</td></tr>",
                            "<tr><td>1</td><td>ISTVANV</td><td>Varga István</td><td>2</td></tr>",
                            "<tr><td>1</td><td>janos3</td><td>Harangozó János</td><td>5</td></tr>",
                            "<tr><td>1</td><td>JANOSG</td><td>Giliga János</td><td>7</td></tr>",
                            "<tr><td>1</td><td>JANOSP</td><td>Pálinkás János</td><td>4</td></tr>",
                            "<tr><td>1</td><td>jozsef</td><td>Gergely József</td><td>3</td></tr>",
                            "<tr><td>1</td><td>jozsef2</td><td>Vajda József</td><td>5</td></tr>",
                            "<tr><td>1</td><td>JOZSEFG</td><td>Gyuris József</td><td>7</td></tr>",
                            "<tr><td>1</td><td>JUDITH</td><td>Hídasi Judit</td><td>3</td></tr>",
                            "<tr><td>1</td><td>julia</td><td>Tóth Júlia</td><td>5</td></tr>",
                            "<tr><td>1</td><td>julia4</td><td>Nagy Júlia</td><td>2</td></tr>",
                            "<tr><td>1</td><td>julianna4</td><td>Szabó Julianna</td><td>4</td></tr>",
                            "<tr><td>1</td><td>kata</td><td>Gondos Katalin</td><td>10</td></tr>",
                            "<tr><td>1</td><td>katalin</td><td>Horváth Katalin</td><td>9</td></tr>",
                            "<tr><td>1</td><td>katalin4</td><td>Kertész Katalin</td><td>6</td></tr>",
                            "<tr><td>1</td><td>kati</td><td>Zatykó Katalin</td><td>7</td></tr>",
                            "<tr><td>1</td><td>katka</td><td>Kovács Katalin</td><td>9</td></tr>",
                            "<tr><td>1</td><td>klaudia2</td><td>Bakó Klaudia</td><td>3</td></tr>",
                            "<tr><td>1</td><td>kornel4</td><td>Lukács Kornél</td><td>3</td></tr>",
                            "<tr><td>1</td><td>kristof4</td><td>Poprádi Kristóf</td><td>2</td></tr>",
                            "<tr><td>1</td><td>kriszti</td><td>Horváth Krisztina</td><td>6</td></tr>",
                            "<tr><td>1</td><td>krisztian4</td><td>Czérna Krisztián</td><td>12</td></tr>",
                            "<tr><td>1</td><td>KRISZTIANM</td><td>Mogyródi Krisztián</td><td>6</td></tr>",
                            "<tr><td>1</td><td>krisztina</td><td>Szedlár Krisztina</td><td>8</td></tr>",
                            "<tr><td>1</td><td>krisztina1</td><td>Bori Krisztina</td><td>6</td></tr>",
                            "<tr><td>1</td><td>KRISZTINAG</td><td>Gyárfás Krisztina</td><td>5</td></tr>",
                            "<tr><td>1</td><td>lajos</td><td>Kiss Lajos</td><td>3</td></tr>",
                            "<tr><td>1</td><td>lala</td><td>Nagymihály Lajos</td><td>6</td></tr>",
                            "<tr><td>1</td><td>laszlo1</td><td>Farkas László</td><td>1</td></tr>",
                            "<tr><td>1</td><td>laszlo2</td><td>Móra László</td><td>5</td></tr>",
                            "<tr><td>1</td><td>LASZLOA</td><td>Antal László</td><td>4</td></tr>",
                            "<tr><td>1</td><td>LASZLON</td><td>Nagy László</td><td>6</td></tr>",
                            "<tr><td>1</td><td>maria1</td><td>Baráth Mária</td><td>8</td></tr>",
                            "<tr><td>1</td><td>mark</td><td>Kispál Márk</td><td>5</td></tr>",
                            "<tr><td>1</td><td>MARKH</td><td>Horváth Márk</td><td>4</td></tr>",
                            "<tr><td>1</td><td>marton</td><td>Kalacsi Márton</td><td>7</td></tr>",
                            "<tr><td>1</td><td>MATEK</td><td>Koza Máté</td><td>3</td></tr>",
                            "<tr><td>1</td><td>matyas2</td><td>Botka Mátyás</td><td>2</td></tr>",
                            "<tr><td>1</td><td>MATYASS</td><td>Szilágyi Mátyás</td><td>8</td></tr>",
                            "<tr><td>1</td><td>MIHALYJ</td><td>Juhász Mihály</td><td>5</td></tr>",
                            "<tr><td>1</td><td>miklos2</td><td>Gondos Miklós</td><td>3</td></tr>",
                            "<tr><td>1</td><td>MIKLOSB</td><td>Balla Miklós</td><td>3</td></tr>",
                            "<tr><td>1</td><td>MONIKAM</td><td>Mohos Mónika</td><td>6</td></tr>",
                            "<tr><td>1</td><td>NANDORF</td><td>Fő Nándor</td><td>3</td></tr>",
                            "<tr><td>1</td><td>nikolett3</td><td>Horváth Nikolett</td><td>4</td></tr>",
                            "<tr><td>1</td><td>nikoletta4</td><td>Kő Nikoletta</td><td>7</td></tr>",
                            "<tr><td>1</td><td>NIKOLETTAT</td><td>Tatár Nikoletta</td><td>4</td></tr>",
                            "<tr><td>1</td><td>norbert</td><td>Szűcs Norbert</td><td>5</td></tr>",
                            "<tr><td>1</td><td>norbert2</td><td>Hegedűs Norbert</td><td>7</td></tr>",
                            "<tr><td>1</td><td>norbert4</td><td>Mile Norbert</td><td>9</td></tr>",
                            "<tr><td>1</td><td>norbert5</td><td>Béres Norbert</td><td>3</td></tr>",
                            "<tr><td>1</td><td>pal</td><td>Barabás Pál</td><td>5</td></tr>",
                            "<tr><td>1</td><td>peter1</td><td>Kozma Péter</td><td>4</td></tr>",
                            "<tr><td>1</td><td>peter2</td><td>Bozsó Péter</td><td>4</td></tr>",
                            "<tr><td>1</td><td>peter3</td><td>Szalai Péter</td><td>6</td></tr>",
                            "<tr><td>1</td><td>peter4</td><td>Bíró Péter</td><td>12</td></tr>",
                            "<tr><td>1</td><td>PETERB</td><td>Berendi Péter</td><td>5</td></tr>",
                            "<tr><td>1</td><td>polla</td><td>Palágyi Polla</td><td>6</td></tr>",
                            "<tr><td>1</td><td>rajmond4</td><td>Rácz Rajmond</td><td>4</td></tr>",
                            "<tr><td>1</td><td>reka4</td><td>Szikszai Réka</td><td>5</td></tr>",
                            "<tr><td>1</td><td>RENATAK</td><td>Kardos Renáta</td><td>6</td></tr>",
                            "<tr><td>1</td><td>RENATAS</td><td>Szirmai Renáta</td><td>5</td></tr>",
                            "<tr><td>1</td><td>robert2</td><td>Patay Róbert</td><td>4</td></tr>",
                            "<tr><td>1</td><td>ROBERTI</td><td>Iván Róbert</td><td>8</td></tr>",
                            "<tr><td>1</td><td>ROBERTP</td><td>Pásztor Róbert</td><td>2</td></tr>",
                            "<tr><td>1</td><td>roland</td><td>Tóth Roland</td><td>4</td></tr>",
                            "<tr><td>1</td><td>roland1</td><td>Ferencz Roland</td><td>4</td></tr>",
                            "<tr><td>1</td><td>roza2</td><td>Bucskó Róza</td><td>3</td></tr>",
                            "<tr><td>1</td><td>sandor</td><td>Karasz Sándor</td><td>4</td></tr>",
                            "<tr><td>1</td><td>sandor3</td><td>Farkas Sándor</td><td>5</td></tr>",
                            "<tr><td>1</td><td>sandor4</td><td>Nagy Sándor</td><td>4</td></tr>",
                            "<tr><td>1</td><td>sara</td><td>Farkas Sára</td><td>12</td></tr>",
                            "<tr><td>1</td><td>SEBASTIANF</td><td>Foltényi Sebastián</td><td>5</td></tr>",
                            "<tr><td>1</td><td>sebestyen</td><td>Rab Sebestyén</td><td>4</td></tr>",
                            "<tr><td>1</td><td>szabolcs</td><td>Bodor Szabolcs</td><td>1</td></tr>",
                            "<tr><td>1</td><td>SZABOLCSM</td><td>Miklós Szabolcs</td><td>7</td></tr>",
                            "<tr><td>1</td><td>SZILARDS</td><td>Szalai Szilárd</td><td>7</td></tr>",
                            "<tr><td>1</td><td>szilvia1</td><td>Tari Szilvia</td><td>9</td></tr>",
                            "<tr><td>1</td><td>tamara2</td><td>Miklós Tamara</td><td>2</td></tr>",
                            "<tr><td>1</td><td>tamas</td><td>Antal Tamás</td><td>4</td></tr>",
                            "<tr><td>1</td><td>TAMASF</td><td>Fényes Tamás</td><td>9</td></tr>",
                            "<tr><td>1</td><td>tibor</td><td>Gombos Tibor</td><td>2</td></tr>",
                            "<tr><td>1</td><td>tibor2</td><td>Dániel Tibor</td><td>1</td></tr>",
                            "<tr><td>1</td><td>tihamer</td><td>Kazy Tihamér</td><td>6</td></tr>",
                            "<tr><td>1</td><td>timea</td><td>Papós Tímea</td><td>1</td></tr>",
                            "<tr><td>1</td><td>timea2</td><td>Dusha Tímea</td><td>5</td></tr>",
                            "<tr><td>1</td><td>tunde</td><td>Turcsik Tünde</td><td>8</td></tr>",
                            "<tr><td>1</td><td>valentin</td><td>Feró Valentin</td><td>5</td></tr>",
                            "<tr><td>1</td><td>veronika4</td><td>Tankó Veronika</td><td>6</td></tr>",
                            "<tr><td>1</td><td>VIKTORIAU</td><td>Urbán Viktoria</td><td>4</td></tr>",
                            "<tr><td>1</td><td>VIKTORK</td><td>Keresztúri Viktor</td><td>2</td></tr>",
                            "<tr><td>1</td><td>vivien3</td><td>Boros Vivien</td><td>7</td></tr>",
                            "<tr><td>1</td><td>zoltan</td><td>Fodor Zoltán</td><td>2</td></tr>",
                            "<tr><td>1</td><td>zoltan4</td><td>Barna Zoltán</td><td>12</td></tr>",
                            "<tr><td>1</td><td>ZOLTANP</td><td>Pintér Zoltán</td><td>6</td></tr>",
                            "<tr><td>1</td><td>ZOLTANT</td><td>Tóth Zoltán</td><td>3</td></tr>",
                            "<tr><td>1</td><td>zsofi1</td><td>Molnár Zsófi</td><td>2</td></tr>",
                            "<tr><td>1</td><td>zsolt1</td><td>Pulai Zsolt</td><td>4</td></tr>",
                            "<tr><td>1</td><td>ZSOLTJ</td><td>Józsa Zsolt</td><td>6</td></tr>",
                            "<tr><td>1</td><td>zsuzsa</td><td>Pusztai Zsuzsanna</td><td>3</td></tr>",
                            "<tr><td>1</td><td>zsuzsa3</td><td>Varsányi Zsuzsa</td><td>4</td></tr>",
                            "<tr><td>1</td><td>zsuzsanna</td><td>Barta Zsuzsanna</td><td>4</td></tr>",
                            "<tr><td>1</td><td>ZSUZSAV</td><td>Vajda Zsuzsa</td><td>6</td></tr>",
                            "</table>"
                        ]
                    }
                }
            ],
            "execution_count": 29
        },
        {
            "cell_type": "markdown",
            "source": [
                "4. Jelenítsük meg, hogy hány foglalás történt szobánként, naponta (METTOL), valamint szobánként, azon belül naponta \n",
                "    \n",
                "    - Szempontonként külön-külön számoljuk a foglalásokat\n",
                "    - A foglalások száma minden esetben legalább 2 legyen"
            ],
            "metadata": {
                "azdata_cell_guid": "0a7812d4-6399-4fa4-be0e-81f36ec9d16b"
            },
            "attachments": {}
        },
        {
            "cell_type": "code",
            "source": [
                "SELECT sz.SZOBA_ID, f.METTOL, COUNT(*)\r\n",
                "FROM Szoba sz JOIN Foglalas f ON sz.SZOBA_ID = f.SZOBA_FK\r\n",
                "GROUP BY ROLLUP(sz.SZOBA_ID, f.METTOL)\r\n",
                "HAVING COUNT(*) >= 2"
            ],
            "metadata": {
                "azdata_cell_guid": "8c3ccc88-d793-478f-b4cb-ece898cb611f",
                "language": "sql"
            },
            "outputs": [
                {
                    "output_type": "display_data",
                    "data": {
                        "text/html": "(201 rows affected)"
                    },
                    "metadata": {}
                },
                {
                    "output_type": "display_data",
                    "data": {
                        "text/html": "Total execution time: 00:00:00.009"
                    },
                    "metadata": {}
                },
                {
                    "output_type": "execute_result",
                    "metadata": {},
                    "execution_count": 38,
                    "data": {
                        "application/vnd.dataresource+json": {
                            "schema": {
                                "fields": [
                                    {
                                        "name": "SZOBA_ID"
                                    },
                                    {
                                        "name": "METTOL"
                                    },
                                    {
                                        "name": "(No column name)"
                                    }
                                ]
                            },
                            "data": [
                                {
                                    "SZOBA_ID": "1",
                                    "METTOL": "NULL",
                                    "(No column name)": "8"
                                },
                                {
                                    "SZOBA_ID": "2",
                                    "METTOL": "NULL",
                                    "(No column name)": "4"
                                },
                                {
                                    "SZOBA_ID": "3",
                                    "METTOL": "NULL",
                                    "(No column name)": "8"
                                },
                                {
                                    "SZOBA_ID": "4",
                                    "METTOL": "NULL",
                                    "(No column name)": "6"
                                },
                                {
                                    "SZOBA_ID": "5",
                                    "METTOL": "NULL",
                                    "(No column name)": "4"
                                },
                                {
                                    "SZOBA_ID": "6",
                                    "METTOL": "NULL",
                                    "(No column name)": "6"
                                },
                                {
                                    "SZOBA_ID": "7",
                                    "METTOL": "NULL",
                                    "(No column name)": "6"
                                },
                                {
                                    "SZOBA_ID": "8",
                                    "METTOL": "NULL",
                                    "(No column name)": "5"
                                },
                                {
                                    "SZOBA_ID": "9",
                                    "METTOL": "NULL",
                                    "(No column name)": "6"
                                },
                                {
                                    "SZOBA_ID": "10",
                                    "METTOL": "NULL",
                                    "(No column name)": "4"
                                },
                                {
                                    "SZOBA_ID": "11",
                                    "METTOL": "NULL",
                                    "(No column name)": "4"
                                },
                                {
                                    "SZOBA_ID": "12",
                                    "METTOL": "NULL",
                                    "(No column name)": "9"
                                },
                                {
                                    "SZOBA_ID": "13",
                                    "METTOL": "NULL",
                                    "(No column name)": "4"
                                },
                                {
                                    "SZOBA_ID": "14",
                                    "METTOL": "NULL",
                                    "(No column name)": "3"
                                },
                                {
                                    "SZOBA_ID": "15",
                                    "METTOL": "NULL",
                                    "(No column name)": "6"
                                },
                                {
                                    "SZOBA_ID": "16",
                                    "METTOL": "NULL",
                                    "(No column name)": "5"
                                },
                                {
                                    "SZOBA_ID": "17",
                                    "METTOL": "NULL",
                                    "(No column name)": "6"
                                },
                                {
                                    "SZOBA_ID": "18",
                                    "METTOL": "NULL",
                                    "(No column name)": "6"
                                },
                                {
                                    "SZOBA_ID": "19",
                                    "METTOL": "NULL",
                                    "(No column name)": "6"
                                },
                                {
                                    "SZOBA_ID": "20",
                                    "METTOL": "2016-10-01",
                                    "(No column name)": "2"
                                },
                                {
                                    "SZOBA_ID": "20",
                                    "METTOL": "NULL",
                                    "(No column name)": "5"
                                },
                                {
                                    "SZOBA_ID": "21",
                                    "METTOL": "NULL",
                                    "(No column name)": "4"
                                },
                                {
                                    "SZOBA_ID": "22",
                                    "METTOL": "NULL",
                                    "(No column name)": "6"
                                },
                                {
                                    "SZOBA_ID": "23",
                                    "METTOL": "NULL",
                                    "(No column name)": "3"
                                },
                                {
                                    "SZOBA_ID": "24",
                                    "METTOL": "NULL",
                                    "(No column name)": "3"
                                },
                                {
                                    "SZOBA_ID": "25",
                                    "METTOL": "NULL",
                                    "(No column name)": "2"
                                },
                                {
                                    "SZOBA_ID": "26",
                                    "METTOL": "NULL",
                                    "(No column name)": "2"
                                },
                                {
                                    "SZOBA_ID": "27",
                                    "METTOL": "NULL",
                                    "(No column name)": "7"
                                },
                                {
                                    "SZOBA_ID": "28",
                                    "METTOL": "NULL",
                                    "(No column name)": "6"
                                },
                                {
                                    "SZOBA_ID": "29",
                                    "METTOL": "NULL",
                                    "(No column name)": "6"
                                },
                                {
                                    "SZOBA_ID": "30",
                                    "METTOL": "NULL",
                                    "(No column name)": "3"
                                },
                                {
                                    "SZOBA_ID": "31",
                                    "METTOL": "NULL",
                                    "(No column name)": "3"
                                },
                                {
                                    "SZOBA_ID": "33",
                                    "METTOL": "NULL",
                                    "(No column name)": "6"
                                },
                                {
                                    "SZOBA_ID": "34",
                                    "METTOL": "NULL",
                                    "(No column name)": "4"
                                },
                                {
                                    "SZOBA_ID": "35",
                                    "METTOL": "NULL",
                                    "(No column name)": "9"
                                },
                                {
                                    "SZOBA_ID": "36",
                                    "METTOL": "NULL",
                                    "(No column name)": "6"
                                },
                                {
                                    "SZOBA_ID": "37",
                                    "METTOL": "NULL",
                                    "(No column name)": "3"
                                },
                                {
                                    "SZOBA_ID": "38",
                                    "METTOL": "NULL",
                                    "(No column name)": "8"
                                },
                                {
                                    "SZOBA_ID": "39",
                                    "METTOL": "NULL",
                                    "(No column name)": "7"
                                },
                                {
                                    "SZOBA_ID": "40",
                                    "METTOL": "2016-06-07",
                                    "(No column name)": "2"
                                },
                                {
                                    "SZOBA_ID": "40",
                                    "METTOL": "NULL",
                                    "(No column name)": "4"
                                },
                                {
                                    "SZOBA_ID": "41",
                                    "METTOL": "NULL",
                                    "(No column name)": "2"
                                },
                                {
                                    "SZOBA_ID": "42",
                                    "METTOL": "NULL",
                                    "(No column name)": "6"
                                },
                                {
                                    "SZOBA_ID": "43",
                                    "METTOL": "NULL",
                                    "(No column name)": "8"
                                },
                                {
                                    "SZOBA_ID": "44",
                                    "METTOL": "NULL",
                                    "(No column name)": "6"
                                },
                                {
                                    "SZOBA_ID": "45",
                                    "METTOL": "2016-08-20",
                                    "(No column name)": "2"
                                },
                                {
                                    "SZOBA_ID": "45",
                                    "METTOL": "NULL",
                                    "(No column name)": "5"
                                },
                                {
                                    "SZOBA_ID": "46",
                                    "METTOL": "NULL",
                                    "(No column name)": "4"
                                },
                                {
                                    "SZOBA_ID": "47",
                                    "METTOL": "NULL",
                                    "(No column name)": "2"
                                },
                                {
                                    "SZOBA_ID": "48",
                                    "METTOL": "NULL",
                                    "(No column name)": "9"
                                },
                                {
                                    "SZOBA_ID": "49",
                                    "METTOL": "NULL",
                                    "(No column name)": "7"
                                },
                                {
                                    "SZOBA_ID": "50",
                                    "METTOL": "NULL",
                                    "(No column name)": "4"
                                },
                                {
                                    "SZOBA_ID": "51",
                                    "METTOL": "NULL",
                                    "(No column name)": "5"
                                },
                                {
                                    "SZOBA_ID": "52",
                                    "METTOL": "NULL",
                                    "(No column name)": "5"
                                },
                                {
                                    "SZOBA_ID": "53",
                                    "METTOL": "NULL",
                                    "(No column name)": "2"
                                },
                                {
                                    "SZOBA_ID": "54",
                                    "METTOL": "NULL",
                                    "(No column name)": "6"
                                },
                                {
                                    "SZOBA_ID": "55",
                                    "METTOL": "NULL",
                                    "(No column name)": "8"
                                },
                                {
                                    "SZOBA_ID": "56",
                                    "METTOL": "NULL",
                                    "(No column name)": "2"
                                },
                                {
                                    "SZOBA_ID": "57",
                                    "METTOL": "NULL",
                                    "(No column name)": "4"
                                },
                                {
                                    "SZOBA_ID": "58",
                                    "METTOL": "NULL",
                                    "(No column name)": "13"
                                },
                                {
                                    "SZOBA_ID": "59",
                                    "METTOL": "NULL",
                                    "(No column name)": "7"
                                },
                                {
                                    "SZOBA_ID": "61",
                                    "METTOL": "NULL",
                                    "(No column name)": "5"
                                },
                                {
                                    "SZOBA_ID": "62",
                                    "METTOL": "NULL",
                                    "(No column name)": "5"
                                },
                                {
                                    "SZOBA_ID": "63",
                                    "METTOL": "NULL",
                                    "(No column name)": "4"
                                },
                                {
                                    "SZOBA_ID": "64",
                                    "METTOL": "NULL",
                                    "(No column name)": "6"
                                },
                                {
                                    "SZOBA_ID": "66",
                                    "METTOL": "NULL",
                                    "(No column name)": "4"
                                },
                                {
                                    "SZOBA_ID": "67",
                                    "METTOL": "NULL",
                                    "(No column name)": "6"
                                },
                                {
                                    "SZOBA_ID": "68",
                                    "METTOL": "NULL",
                                    "(No column name)": "3"
                                },
                                {
                                    "SZOBA_ID": "69",
                                    "METTOL": "NULL",
                                    "(No column name)": "4"
                                },
                                {
                                    "SZOBA_ID": "70",
                                    "METTOL": "NULL",
                                    "(No column name)": "11"
                                },
                                {
                                    "SZOBA_ID": "71",
                                    "METTOL": "NULL",
                                    "(No column name)": "3"
                                },
                                {
                                    "SZOBA_ID": "72",
                                    "METTOL": "NULL",
                                    "(No column name)": "4"
                                },
                                {
                                    "SZOBA_ID": "73",
                                    "METTOL": "NULL",
                                    "(No column name)": "4"
                                },
                                {
                                    "SZOBA_ID": "74",
                                    "METTOL": "NULL",
                                    "(No column name)": "9"
                                },
                                {
                                    "SZOBA_ID": "75",
                                    "METTOL": "NULL",
                                    "(No column name)": "3"
                                },
                                {
                                    "SZOBA_ID": "76",
                                    "METTOL": "NULL",
                                    "(No column name)": "3"
                                },
                                {
                                    "SZOBA_ID": "77",
                                    "METTOL": "NULL",
                                    "(No column name)": "6"
                                },
                                {
                                    "SZOBA_ID": "78",
                                    "METTOL": "NULL",
                                    "(No column name)": "6"
                                },
                                {
                                    "SZOBA_ID": "79",
                                    "METTOL": "NULL",
                                    "(No column name)": "5"
                                },
                                {
                                    "SZOBA_ID": "80",
                                    "METTOL": "NULL",
                                    "(No column name)": "7"
                                },
                                {
                                    "SZOBA_ID": "81",
                                    "METTOL": "NULL",
                                    "(No column name)": "5"
                                },
                                {
                                    "SZOBA_ID": "82",
                                    "METTOL": "NULL",
                                    "(No column name)": "6"
                                },
                                {
                                    "SZOBA_ID": "83",
                                    "METTOL": "NULL",
                                    "(No column name)": "8"
                                },
                                {
                                    "SZOBA_ID": "84",
                                    "METTOL": "NULL",
                                    "(No column name)": "4"
                                },
                                {
                                    "SZOBA_ID": "85",
                                    "METTOL": "NULL",
                                    "(No column name)": "4"
                                },
                                {
                                    "SZOBA_ID": "86",
                                    "METTOL": "NULL",
                                    "(No column name)": "5"
                                },
                                {
                                    "SZOBA_ID": "87",
                                    "METTOL": "NULL",
                                    "(No column name)": "5"
                                },
                                {
                                    "SZOBA_ID": "88",
                                    "METTOL": "NULL",
                                    "(No column name)": "8"
                                },
                                {
                                    "SZOBA_ID": "89",
                                    "METTOL": "NULL",
                                    "(No column name)": "8"
                                },
                                {
                                    "SZOBA_ID": "90",
                                    "METTOL": "NULL",
                                    "(No column name)": "4"
                                },
                                {
                                    "SZOBA_ID": "91",
                                    "METTOL": "NULL",
                                    "(No column name)": "4"
                                },
                                {
                                    "SZOBA_ID": "92",
                                    "METTOL": "NULL",
                                    "(No column name)": "6"
                                },
                                {
                                    "SZOBA_ID": "93",
                                    "METTOL": "NULL",
                                    "(No column name)": "5"
                                },
                                {
                                    "SZOBA_ID": "94",
                                    "METTOL": "NULL",
                                    "(No column name)": "10"
                                },
                                {
                                    "SZOBA_ID": "95",
                                    "METTOL": "NULL",
                                    "(No column name)": "4"
                                },
                                {
                                    "SZOBA_ID": "96",
                                    "METTOL": "NULL",
                                    "(No column name)": "7"
                                },
                                {
                                    "SZOBA_ID": "97",
                                    "METTOL": "2016-07-27",
                                    "(No column name)": "2"
                                },
                                {
                                    "SZOBA_ID": "97",
                                    "METTOL": "NULL",
                                    "(No column name)": "7"
                                },
                                {
                                    "SZOBA_ID": "98",
                                    "METTOL": "NULL",
                                    "(No column name)": "4"
                                },
                                {
                                    "SZOBA_ID": "99",
                                    "METTOL": "NULL",
                                    "(No column name)": "5"
                                },
                                {
                                    "SZOBA_ID": "100",
                                    "METTOL": "NULL",
                                    "(No column name)": "4"
                                },
                                {
                                    "SZOBA_ID": "101",
                                    "METTOL": "NULL",
                                    "(No column name)": "3"
                                },
                                {
                                    "SZOBA_ID": "102",
                                    "METTOL": "NULL",
                                    "(No column name)": "2"
                                },
                                {
                                    "SZOBA_ID": "103",
                                    "METTOL": "NULL",
                                    "(No column name)": "4"
                                },
                                {
                                    "SZOBA_ID": "104",
                                    "METTOL": "NULL",
                                    "(No column name)": "4"
                                },
                                {
                                    "SZOBA_ID": "105",
                                    "METTOL": "NULL",
                                    "(No column name)": "2"
                                },
                                {
                                    "SZOBA_ID": "106",
                                    "METTOL": "NULL",
                                    "(No column name)": "6"
                                },
                                {
                                    "SZOBA_ID": "107",
                                    "METTOL": "NULL",
                                    "(No column name)": "5"
                                },
                                {
                                    "SZOBA_ID": "108",
                                    "METTOL": "NULL",
                                    "(No column name)": "2"
                                },
                                {
                                    "SZOBA_ID": "109",
                                    "METTOL": "NULL",
                                    "(No column name)": "7"
                                },
                                {
                                    "SZOBA_ID": "110",
                                    "METTOL": "NULL",
                                    "(No column name)": "8"
                                },
                                {
                                    "SZOBA_ID": "111",
                                    "METTOL": "NULL",
                                    "(No column name)": "5"
                                },
                                {
                                    "SZOBA_ID": "112",
                                    "METTOL": "NULL",
                                    "(No column name)": "5"
                                },
                                {
                                    "SZOBA_ID": "113",
                                    "METTOL": "NULL",
                                    "(No column name)": "5"
                                },
                                {
                                    "SZOBA_ID": "114",
                                    "METTOL": "NULL",
                                    "(No column name)": "4"
                                },
                                {
                                    "SZOBA_ID": "115",
                                    "METTOL": "NULL",
                                    "(No column name)": "7"
                                },
                                {
                                    "SZOBA_ID": "116",
                                    "METTOL": "NULL",
                                    "(No column name)": "2"
                                },
                                {
                                    "SZOBA_ID": "117",
                                    "METTOL": "NULL",
                                    "(No column name)": "8"
                                },
                                {
                                    "SZOBA_ID": "118",
                                    "METTOL": "NULL",
                                    "(No column name)": "7"
                                },
                                {
                                    "SZOBA_ID": "119",
                                    "METTOL": "NULL",
                                    "(No column name)": "5"
                                },
                                {
                                    "SZOBA_ID": "120",
                                    "METTOL": "NULL",
                                    "(No column name)": "6"
                                },
                                {
                                    "SZOBA_ID": "121",
                                    "METTOL": "NULL",
                                    "(No column name)": "8"
                                },
                                {
                                    "SZOBA_ID": "122",
                                    "METTOL": "NULL",
                                    "(No column name)": "9"
                                },
                                {
                                    "SZOBA_ID": "123",
                                    "METTOL": "NULL",
                                    "(No column name)": "5"
                                },
                                {
                                    "SZOBA_ID": "124",
                                    "METTOL": "NULL",
                                    "(No column name)": "6"
                                },
                                {
                                    "SZOBA_ID": "126",
                                    "METTOL": "NULL",
                                    "(No column name)": "6"
                                },
                                {
                                    "SZOBA_ID": "127",
                                    "METTOL": "NULL",
                                    "(No column name)": "7"
                                },
                                {
                                    "SZOBA_ID": "128",
                                    "METTOL": "NULL",
                                    "(No column name)": "5"
                                },
                                {
                                    "SZOBA_ID": "129",
                                    "METTOL": "NULL",
                                    "(No column name)": "4"
                                },
                                {
                                    "SZOBA_ID": "130",
                                    "METTOL": "NULL",
                                    "(No column name)": "6"
                                },
                                {
                                    "SZOBA_ID": "131",
                                    "METTOL": "NULL",
                                    "(No column name)": "5"
                                },
                                {
                                    "SZOBA_ID": "132",
                                    "METTOL": "NULL",
                                    "(No column name)": "6"
                                },
                                {
                                    "SZOBA_ID": "133",
                                    "METTOL": "NULL",
                                    "(No column name)": "6"
                                },
                                {
                                    "SZOBA_ID": "134",
                                    "METTOL": "NULL",
                                    "(No column name)": "6"
                                },
                                {
                                    "SZOBA_ID": "135",
                                    "METTOL": "NULL",
                                    "(No column name)": "3"
                                },
                                {
                                    "SZOBA_ID": "136",
                                    "METTOL": "NULL",
                                    "(No column name)": "3"
                                },
                                {
                                    "SZOBA_ID": "137",
                                    "METTOL": "NULL",
                                    "(No column name)": "6"
                                },
                                {
                                    "SZOBA_ID": "138",
                                    "METTOL": "NULL",
                                    "(No column name)": "7"
                                },
                                {
                                    "SZOBA_ID": "139",
                                    "METTOL": "NULL",
                                    "(No column name)": "7"
                                },
                                {
                                    "SZOBA_ID": "140",
                                    "METTOL": "NULL",
                                    "(No column name)": "8"
                                },
                                {
                                    "SZOBA_ID": "141",
                                    "METTOL": "NULL",
                                    "(No column name)": "6"
                                },
                                {
                                    "SZOBA_ID": "142",
                                    "METTOL": "NULL",
                                    "(No column name)": "2"
                                },
                                {
                                    "SZOBA_ID": "143",
                                    "METTOL": "NULL",
                                    "(No column name)": "7"
                                },
                                {
                                    "SZOBA_ID": "144",
                                    "METTOL": "NULL",
                                    "(No column name)": "5"
                                },
                                {
                                    "SZOBA_ID": "145",
                                    "METTOL": "NULL",
                                    "(No column name)": "6"
                                },
                                {
                                    "SZOBA_ID": "146",
                                    "METTOL": "NULL",
                                    "(No column name)": "6"
                                },
                                {
                                    "SZOBA_ID": "148",
                                    "METTOL": "2016-08-23",
                                    "(No column name)": "2"
                                },
                                {
                                    "SZOBA_ID": "148",
                                    "METTOL": "NULL",
                                    "(No column name)": "6"
                                },
                                {
                                    "SZOBA_ID": "149",
                                    "METTOL": "NULL",
                                    "(No column name)": "7"
                                },
                                {
                                    "SZOBA_ID": "150",
                                    "METTOL": "2016-10-01",
                                    "(No column name)": "2"
                                },
                                {
                                    "SZOBA_ID": "150",
                                    "METTOL": "NULL",
                                    "(No column name)": "6"
                                },
                                {
                                    "SZOBA_ID": "151",
                                    "METTOL": "NULL",
                                    "(No column name)": "3"
                                },
                                {
                                    "SZOBA_ID": "152",
                                    "METTOL": "NULL",
                                    "(No column name)": "4"
                                },
                                {
                                    "SZOBA_ID": "153",
                                    "METTOL": "NULL",
                                    "(No column name)": "5"
                                },
                                {
                                    "SZOBA_ID": "154",
                                    "METTOL": "NULL",
                                    "(No column name)": "5"
                                },
                                {
                                    "SZOBA_ID": "155",
                                    "METTOL": "NULL",
                                    "(No column name)": "5"
                                },
                                {
                                    "SZOBA_ID": "156",
                                    "METTOL": "NULL",
                                    "(No column name)": "7"
                                },
                                {
                                    "SZOBA_ID": "157",
                                    "METTOL": "NULL",
                                    "(No column name)": "5"
                                },
                                {
                                    "SZOBA_ID": "158",
                                    "METTOL": "NULL",
                                    "(No column name)": "3"
                                },
                                {
                                    "SZOBA_ID": "160",
                                    "METTOL": "2016-06-07",
                                    "(No column name)": "2"
                                },
                                {
                                    "SZOBA_ID": "160",
                                    "METTOL": "NULL",
                                    "(No column name)": "5"
                                },
                                {
                                    "SZOBA_ID": "161",
                                    "METTOL": "NULL",
                                    "(No column name)": "6"
                                },
                                {
                                    "SZOBA_ID": "162",
                                    "METTOL": "NULL",
                                    "(No column name)": "3"
                                },
                                {
                                    "SZOBA_ID": "163",
                                    "METTOL": "NULL",
                                    "(No column name)": "7"
                                },
                                {
                                    "SZOBA_ID": "164",
                                    "METTOL": "NULL",
                                    "(No column name)": "5"
                                },
                                {
                                    "SZOBA_ID": "165",
                                    "METTOL": "2016-06-03",
                                    "(No column name)": "3"
                                },
                                {
                                    "SZOBA_ID": "165",
                                    "METTOL": "NULL",
                                    "(No column name)": "7"
                                },
                                {
                                    "SZOBA_ID": "166",
                                    "METTOL": "NULL",
                                    "(No column name)": "3"
                                },
                                {
                                    "SZOBA_ID": "167",
                                    "METTOL": "NULL",
                                    "(No column name)": "2"
                                },
                                {
                                    "SZOBA_ID": "168",
                                    "METTOL": "NULL",
                                    "(No column name)": "5"
                                },
                                {
                                    "SZOBA_ID": "169",
                                    "METTOL": "NULL",
                                    "(No column name)": "6"
                                },
                                {
                                    "SZOBA_ID": "170",
                                    "METTOL": "NULL",
                                    "(No column name)": "5"
                                },
                                {
                                    "SZOBA_ID": "171",
                                    "METTOL": "NULL",
                                    "(No column name)": "5"
                                },
                                {
                                    "SZOBA_ID": "172",
                                    "METTOL": "NULL",
                                    "(No column name)": "9"
                                },
                                {
                                    "SZOBA_ID": "173",
                                    "METTOL": "NULL",
                                    "(No column name)": "4"
                                },
                                {
                                    "SZOBA_ID": "174",
                                    "METTOL": "NULL",
                                    "(No column name)": "4"
                                },
                                {
                                    "SZOBA_ID": "175",
                                    "METTOL": "NULL",
                                    "(No column name)": "5"
                                },
                                {
                                    "SZOBA_ID": "176",
                                    "METTOL": "NULL",
                                    "(No column name)": "6"
                                },
                                {
                                    "SZOBA_ID": "177",
                                    "METTOL": "NULL",
                                    "(No column name)": "4"
                                },
                                {
                                    "SZOBA_ID": "178",
                                    "METTOL": "NULL",
                                    "(No column name)": "4"
                                },
                                {
                                    "SZOBA_ID": "179",
                                    "METTOL": "NULL",
                                    "(No column name)": "3"
                                },
                                {
                                    "SZOBA_ID": "180",
                                    "METTOL": "NULL",
                                    "(No column name)": "3"
                                },
                                {
                                    "SZOBA_ID": "181",
                                    "METTOL": "NULL",
                                    "(No column name)": "6"
                                },
                                {
                                    "SZOBA_ID": "182",
                                    "METTOL": "2016-10-30",
                                    "(No column name)": "2"
                                },
                                {
                                    "SZOBA_ID": "182",
                                    "METTOL": "NULL",
                                    "(No column name)": "12"
                                },
                                {
                                    "SZOBA_ID": "183",
                                    "METTOL": "NULL",
                                    "(No column name)": "4"
                                },
                                {
                                    "SZOBA_ID": "184",
                                    "METTOL": "NULL",
                                    "(No column name)": "4"
                                },
                                {
                                    "SZOBA_ID": "185",
                                    "METTOL": "NULL",
                                    "(No column name)": "12"
                                },
                                {
                                    "SZOBA_ID": "186",
                                    "METTOL": "NULL",
                                    "(No column name)": "4"
                                },
                                {
                                    "SZOBA_ID": "187",
                                    "METTOL": "NULL",
                                    "(No column name)": "7"
                                },
                                {
                                    "SZOBA_ID": "188",
                                    "METTOL": "NULL",
                                    "(No column name)": "6"
                                },
                                {
                                    "SZOBA_ID": "189",
                                    "METTOL": "NULL",
                                    "(No column name)": "5"
                                },
                                {
                                    "SZOBA_ID": "190",
                                    "METTOL": "NULL",
                                    "(No column name)": "5"
                                },
                                {
                                    "SZOBA_ID": "191",
                                    "METTOL": "NULL",
                                    "(No column name)": "5"
                                },
                                {
                                    "SZOBA_ID": "192",
                                    "METTOL": "NULL",
                                    "(No column name)": "2"
                                },
                                {
                                    "SZOBA_ID": "193",
                                    "METTOL": "NULL",
                                    "(No column name)": "7"
                                },
                                {
                                    "SZOBA_ID": "195",
                                    "METTOL": "NULL",
                                    "(No column name)": "6"
                                },
                                {
                                    "SZOBA_ID": "196",
                                    "METTOL": "NULL",
                                    "(No column name)": "4"
                                },
                                {
                                    "SZOBA_ID": "197",
                                    "METTOL": "NULL",
                                    "(No column name)": "6"
                                },
                                {
                                    "SZOBA_ID": "198",
                                    "METTOL": "NULL",
                                    "(No column name)": "8"
                                },
                                {
                                    "SZOBA_ID": "NULL",
                                    "METTOL": "NULL",
                                    "(No column name)": "1027"
                                }
                            ]
                        },
                        "text/html": [
                            "<table>",
                            "<tr><th>SZOBA_ID</th><th>METTOL</th><th>(No column name)</th></tr>",
                            "<tr><td>1</td><td>NULL</td><td>8</td></tr>",
                            "<tr><td>2</td><td>NULL</td><td>4</td></tr>",
                            "<tr><td>3</td><td>NULL</td><td>8</td></tr>",
                            "<tr><td>4</td><td>NULL</td><td>6</td></tr>",
                            "<tr><td>5</td><td>NULL</td><td>4</td></tr>",
                            "<tr><td>6</td><td>NULL</td><td>6</td></tr>",
                            "<tr><td>7</td><td>NULL</td><td>6</td></tr>",
                            "<tr><td>8</td><td>NULL</td><td>5</td></tr>",
                            "<tr><td>9</td><td>NULL</td><td>6</td></tr>",
                            "<tr><td>10</td><td>NULL</td><td>4</td></tr>",
                            "<tr><td>11</td><td>NULL</td><td>4</td></tr>",
                            "<tr><td>12</td><td>NULL</td><td>9</td></tr>",
                            "<tr><td>13</td><td>NULL</td><td>4</td></tr>",
                            "<tr><td>14</td><td>NULL</td><td>3</td></tr>",
                            "<tr><td>15</td><td>NULL</td><td>6</td></tr>",
                            "<tr><td>16</td><td>NULL</td><td>5</td></tr>",
                            "<tr><td>17</td><td>NULL</td><td>6</td></tr>",
                            "<tr><td>18</td><td>NULL</td><td>6</td></tr>",
                            "<tr><td>19</td><td>NULL</td><td>6</td></tr>",
                            "<tr><td>20</td><td>2016-10-01</td><td>2</td></tr>",
                            "<tr><td>20</td><td>NULL</td><td>5</td></tr>",
                            "<tr><td>21</td><td>NULL</td><td>4</td></tr>",
                            "<tr><td>22</td><td>NULL</td><td>6</td></tr>",
                            "<tr><td>23</td><td>NULL</td><td>3</td></tr>",
                            "<tr><td>24</td><td>NULL</td><td>3</td></tr>",
                            "<tr><td>25</td><td>NULL</td><td>2</td></tr>",
                            "<tr><td>26</td><td>NULL</td><td>2</td></tr>",
                            "<tr><td>27</td><td>NULL</td><td>7</td></tr>",
                            "<tr><td>28</td><td>NULL</td><td>6</td></tr>",
                            "<tr><td>29</td><td>NULL</td><td>6</td></tr>",
                            "<tr><td>30</td><td>NULL</td><td>3</td></tr>",
                            "<tr><td>31</td><td>NULL</td><td>3</td></tr>",
                            "<tr><td>33</td><td>NULL</td><td>6</td></tr>",
                            "<tr><td>34</td><td>NULL</td><td>4</td></tr>",
                            "<tr><td>35</td><td>NULL</td><td>9</td></tr>",
                            "<tr><td>36</td><td>NULL</td><td>6</td></tr>",
                            "<tr><td>37</td><td>NULL</td><td>3</td></tr>",
                            "<tr><td>38</td><td>NULL</td><td>8</td></tr>",
                            "<tr><td>39</td><td>NULL</td><td>7</td></tr>",
                            "<tr><td>40</td><td>2016-06-07</td><td>2</td></tr>",
                            "<tr><td>40</td><td>NULL</td><td>4</td></tr>",
                            "<tr><td>41</td><td>NULL</td><td>2</td></tr>",
                            "<tr><td>42</td><td>NULL</td><td>6</td></tr>",
                            "<tr><td>43</td><td>NULL</td><td>8</td></tr>",
                            "<tr><td>44</td><td>NULL</td><td>6</td></tr>",
                            "<tr><td>45</td><td>2016-08-20</td><td>2</td></tr>",
                            "<tr><td>45</td><td>NULL</td><td>5</td></tr>",
                            "<tr><td>46</td><td>NULL</td><td>4</td></tr>",
                            "<tr><td>47</td><td>NULL</td><td>2</td></tr>",
                            "<tr><td>48</td><td>NULL</td><td>9</td></tr>",
                            "<tr><td>49</td><td>NULL</td><td>7</td></tr>",
                            "<tr><td>50</td><td>NULL</td><td>4</td></tr>",
                            "<tr><td>51</td><td>NULL</td><td>5</td></tr>",
                            "<tr><td>52</td><td>NULL</td><td>5</td></tr>",
                            "<tr><td>53</td><td>NULL</td><td>2</td></tr>",
                            "<tr><td>54</td><td>NULL</td><td>6</td></tr>",
                            "<tr><td>55</td><td>NULL</td><td>8</td></tr>",
                            "<tr><td>56</td><td>NULL</td><td>2</td></tr>",
                            "<tr><td>57</td><td>NULL</td><td>4</td></tr>",
                            "<tr><td>58</td><td>NULL</td><td>13</td></tr>",
                            "<tr><td>59</td><td>NULL</td><td>7</td></tr>",
                            "<tr><td>61</td><td>NULL</td><td>5</td></tr>",
                            "<tr><td>62</td><td>NULL</td><td>5</td></tr>",
                            "<tr><td>63</td><td>NULL</td><td>4</td></tr>",
                            "<tr><td>64</td><td>NULL</td><td>6</td></tr>",
                            "<tr><td>66</td><td>NULL</td><td>4</td></tr>",
                            "<tr><td>67</td><td>NULL</td><td>6</td></tr>",
                            "<tr><td>68</td><td>NULL</td><td>3</td></tr>",
                            "<tr><td>69</td><td>NULL</td><td>4</td></tr>",
                            "<tr><td>70</td><td>NULL</td><td>11</td></tr>",
                            "<tr><td>71</td><td>NULL</td><td>3</td></tr>",
                            "<tr><td>72</td><td>NULL</td><td>4</td></tr>",
                            "<tr><td>73</td><td>NULL</td><td>4</td></tr>",
                            "<tr><td>74</td><td>NULL</td><td>9</td></tr>",
                            "<tr><td>75</td><td>NULL</td><td>3</td></tr>",
                            "<tr><td>76</td><td>NULL</td><td>3</td></tr>",
                            "<tr><td>77</td><td>NULL</td><td>6</td></tr>",
                            "<tr><td>78</td><td>NULL</td><td>6</td></tr>",
                            "<tr><td>79</td><td>NULL</td><td>5</td></tr>",
                            "<tr><td>80</td><td>NULL</td><td>7</td></tr>",
                            "<tr><td>81</td><td>NULL</td><td>5</td></tr>",
                            "<tr><td>82</td><td>NULL</td><td>6</td></tr>",
                            "<tr><td>83</td><td>NULL</td><td>8</td></tr>",
                            "<tr><td>84</td><td>NULL</td><td>4</td></tr>",
                            "<tr><td>85</td><td>NULL</td><td>4</td></tr>",
                            "<tr><td>86</td><td>NULL</td><td>5</td></tr>",
                            "<tr><td>87</td><td>NULL</td><td>5</td></tr>",
                            "<tr><td>88</td><td>NULL</td><td>8</td></tr>",
                            "<tr><td>89</td><td>NULL</td><td>8</td></tr>",
                            "<tr><td>90</td><td>NULL</td><td>4</td></tr>",
                            "<tr><td>91</td><td>NULL</td><td>4</td></tr>",
                            "<tr><td>92</td><td>NULL</td><td>6</td></tr>",
                            "<tr><td>93</td><td>NULL</td><td>5</td></tr>",
                            "<tr><td>94</td><td>NULL</td><td>10</td></tr>",
                            "<tr><td>95</td><td>NULL</td><td>4</td></tr>",
                            "<tr><td>96</td><td>NULL</td><td>7</td></tr>",
                            "<tr><td>97</td><td>2016-07-27</td><td>2</td></tr>",
                            "<tr><td>97</td><td>NULL</td><td>7</td></tr>",
                            "<tr><td>98</td><td>NULL</td><td>4</td></tr>",
                            "<tr><td>99</td><td>NULL</td><td>5</td></tr>",
                            "<tr><td>100</td><td>NULL</td><td>4</td></tr>",
                            "<tr><td>101</td><td>NULL</td><td>3</td></tr>",
                            "<tr><td>102</td><td>NULL</td><td>2</td></tr>",
                            "<tr><td>103</td><td>NULL</td><td>4</td></tr>",
                            "<tr><td>104</td><td>NULL</td><td>4</td></tr>",
                            "<tr><td>105</td><td>NULL</td><td>2</td></tr>",
                            "<tr><td>106</td><td>NULL</td><td>6</td></tr>",
                            "<tr><td>107</td><td>NULL</td><td>5</td></tr>",
                            "<tr><td>108</td><td>NULL</td><td>2</td></tr>",
                            "<tr><td>109</td><td>NULL</td><td>7</td></tr>",
                            "<tr><td>110</td><td>NULL</td><td>8</td></tr>",
                            "<tr><td>111</td><td>NULL</td><td>5</td></tr>",
                            "<tr><td>112</td><td>NULL</td><td>5</td></tr>",
                            "<tr><td>113</td><td>NULL</td><td>5</td></tr>",
                            "<tr><td>114</td><td>NULL</td><td>4</td></tr>",
                            "<tr><td>115</td><td>NULL</td><td>7</td></tr>",
                            "<tr><td>116</td><td>NULL</td><td>2</td></tr>",
                            "<tr><td>117</td><td>NULL</td><td>8</td></tr>",
                            "<tr><td>118</td><td>NULL</td><td>7</td></tr>",
                            "<tr><td>119</td><td>NULL</td><td>5</td></tr>",
                            "<tr><td>120</td><td>NULL</td><td>6</td></tr>",
                            "<tr><td>121</td><td>NULL</td><td>8</td></tr>",
                            "<tr><td>122</td><td>NULL</td><td>9</td></tr>",
                            "<tr><td>123</td><td>NULL</td><td>5</td></tr>",
                            "<tr><td>124</td><td>NULL</td><td>6</td></tr>",
                            "<tr><td>126</td><td>NULL</td><td>6</td></tr>",
                            "<tr><td>127</td><td>NULL</td><td>7</td></tr>",
                            "<tr><td>128</td><td>NULL</td><td>5</td></tr>",
                            "<tr><td>129</td><td>NULL</td><td>4</td></tr>",
                            "<tr><td>130</td><td>NULL</td><td>6</td></tr>",
                            "<tr><td>131</td><td>NULL</td><td>5</td></tr>",
                            "<tr><td>132</td><td>NULL</td><td>6</td></tr>",
                            "<tr><td>133</td><td>NULL</td><td>6</td></tr>",
                            "<tr><td>134</td><td>NULL</td><td>6</td></tr>",
                            "<tr><td>135</td><td>NULL</td><td>3</td></tr>",
                            "<tr><td>136</td><td>NULL</td><td>3</td></tr>",
                            "<tr><td>137</td><td>NULL</td><td>6</td></tr>",
                            "<tr><td>138</td><td>NULL</td><td>7</td></tr>",
                            "<tr><td>139</td><td>NULL</td><td>7</td></tr>",
                            "<tr><td>140</td><td>NULL</td><td>8</td></tr>",
                            "<tr><td>141</td><td>NULL</td><td>6</td></tr>",
                            "<tr><td>142</td><td>NULL</td><td>2</td></tr>",
                            "<tr><td>143</td><td>NULL</td><td>7</td></tr>",
                            "<tr><td>144</td><td>NULL</td><td>5</td></tr>",
                            "<tr><td>145</td><td>NULL</td><td>6</td></tr>",
                            "<tr><td>146</td><td>NULL</td><td>6</td></tr>",
                            "<tr><td>148</td><td>2016-08-23</td><td>2</td></tr>",
                            "<tr><td>148</td><td>NULL</td><td>6</td></tr>",
                            "<tr><td>149</td><td>NULL</td><td>7</td></tr>",
                            "<tr><td>150</td><td>2016-10-01</td><td>2</td></tr>",
                            "<tr><td>150</td><td>NULL</td><td>6</td></tr>",
                            "<tr><td>151</td><td>NULL</td><td>3</td></tr>",
                            "<tr><td>152</td><td>NULL</td><td>4</td></tr>",
                            "<tr><td>153</td><td>NULL</td><td>5</td></tr>",
                            "<tr><td>154</td><td>NULL</td><td>5</td></tr>",
                            "<tr><td>155</td><td>NULL</td><td>5</td></tr>",
                            "<tr><td>156</td><td>NULL</td><td>7</td></tr>",
                            "<tr><td>157</td><td>NULL</td><td>5</td></tr>",
                            "<tr><td>158</td><td>NULL</td><td>3</td></tr>",
                            "<tr><td>160</td><td>2016-06-07</td><td>2</td></tr>",
                            "<tr><td>160</td><td>NULL</td><td>5</td></tr>",
                            "<tr><td>161</td><td>NULL</td><td>6</td></tr>",
                            "<tr><td>162</td><td>NULL</td><td>3</td></tr>",
                            "<tr><td>163</td><td>NULL</td><td>7</td></tr>",
                            "<tr><td>164</td><td>NULL</td><td>5</td></tr>",
                            "<tr><td>165</td><td>2016-06-03</td><td>3</td></tr>",
                            "<tr><td>165</td><td>NULL</td><td>7</td></tr>",
                            "<tr><td>166</td><td>NULL</td><td>3</td></tr>",
                            "<tr><td>167</td><td>NULL</td><td>2</td></tr>",
                            "<tr><td>168</td><td>NULL</td><td>5</td></tr>",
                            "<tr><td>169</td><td>NULL</td><td>6</td></tr>",
                            "<tr><td>170</td><td>NULL</td><td>5</td></tr>",
                            "<tr><td>171</td><td>NULL</td><td>5</td></tr>",
                            "<tr><td>172</td><td>NULL</td><td>9</td></tr>",
                            "<tr><td>173</td><td>NULL</td><td>4</td></tr>",
                            "<tr><td>174</td><td>NULL</td><td>4</td></tr>",
                            "<tr><td>175</td><td>NULL</td><td>5</td></tr>",
                            "<tr><td>176</td><td>NULL</td><td>6</td></tr>",
                            "<tr><td>177</td><td>NULL</td><td>4</td></tr>",
                            "<tr><td>178</td><td>NULL</td><td>4</td></tr>",
                            "<tr><td>179</td><td>NULL</td><td>3</td></tr>",
                            "<tr><td>180</td><td>NULL</td><td>3</td></tr>",
                            "<tr><td>181</td><td>NULL</td><td>6</td></tr>",
                            "<tr><td>182</td><td>2016-10-30</td><td>2</td></tr>",
                            "<tr><td>182</td><td>NULL</td><td>12</td></tr>",
                            "<tr><td>183</td><td>NULL</td><td>4</td></tr>",
                            "<tr><td>184</td><td>NULL</td><td>4</td></tr>",
                            "<tr><td>185</td><td>NULL</td><td>12</td></tr>",
                            "<tr><td>186</td><td>NULL</td><td>4</td></tr>",
                            "<tr><td>187</td><td>NULL</td><td>7</td></tr>",
                            "<tr><td>188</td><td>NULL</td><td>6</td></tr>",
                            "<tr><td>189</td><td>NULL</td><td>5</td></tr>",
                            "<tr><td>190</td><td>NULL</td><td>5</td></tr>",
                            "<tr><td>191</td><td>NULL</td><td>5</td></tr>",
                            "<tr><td>192</td><td>NULL</td><td>2</td></tr>",
                            "<tr><td>193</td><td>NULL</td><td>7</td></tr>",
                            "<tr><td>195</td><td>NULL</td><td>6</td></tr>",
                            "<tr><td>196</td><td>NULL</td><td>4</td></tr>",
                            "<tr><td>197</td><td>NULL</td><td>6</td></tr>",
                            "<tr><td>198</td><td>NULL</td><td>8</td></tr>",
                            "<tr><td>NULL</td><td>NULL</td><td>1027</td></tr>",
                            "</table>"
                        ]
                    }
                }
            ],
            "execution_count": 38
        },
        {
            "cell_type": "markdown",
            "source": [
                "5. A Szoba tábla Ferohely oszlopára végezzük el a következő számításokat:\n",
                "    \n",
                "    - Különböző értékek száma\n",
                "    - Minimum, maximum, átlag\n",
                "    - Null és Not null értékek százalékos aránya"
            ],
            "metadata": {
                "azdata_cell_guid": "deca6f9e-195a-413c-8904-fab4ee412764"
            },
            "attachments": {}
        },
        {
            "cell_type": "code",
            "source": [
                "SELECT COUNT(DISTINCT FEROHELY) AS 'Különböző értékek száma'\r\n",
                "FROM Szoba"
            ],
            "metadata": {
                "azdata_cell_guid": "f1e37d9f-f825-4146-9fc2-b60e284c1c96",
                "language": "sql"
            },
            "outputs": [
                {
                    "output_type": "display_data",
                    "data": {
                        "text/html": "(1 row affected)"
                    },
                    "metadata": {}
                },
                {
                    "output_type": "display_data",
                    "data": {
                        "text/html": "Total execution time: 00:00:00.005"
                    },
                    "metadata": {}
                },
                {
                    "output_type": "execute_result",
                    "metadata": {},
                    "execution_count": 52,
                    "data": {
                        "application/vnd.dataresource+json": {
                            "schema": {
                                "fields": [
                                    {
                                        "name": "Különböző értékek száma"
                                    }
                                ]
                            },
                            "data": [
                                {
                                    "Különböző értékek száma": "4"
                                }
                            ]
                        },
                        "text/html": [
                            "<table>",
                            "<tr><th>Különböző értékek száma</th></tr>",
                            "<tr><td>4</td></tr>",
                            "</table>"
                        ]
                    }
                }
            ],
            "execution_count": 52
        },
        {
            "cell_type": "code",
            "source": [
                "SELECT MIN(FEROHELY) AS 'MIN', MAX(FEROHELY) AS 'MAX', AVG(FEROHELY) AS 'AVG'\r\n",
                "FROM Szoba"
            ],
            "metadata": {
                "azdata_cell_guid": "ed452508-e62e-432c-900e-76e21a633920",
                "language": "sql"
            },
            "outputs": [
                {
                    "output_type": "display_data",
                    "data": {
                        "text/html": "(1 row affected)"
                    },
                    "metadata": {}
                },
                {
                    "output_type": "display_data",
                    "data": {
                        "text/html": "Total execution time: 00:00:00.007"
                    },
                    "metadata": {}
                },
                {
                    "output_type": "execute_result",
                    "metadata": {},
                    "execution_count": 41,
                    "data": {
                        "application/vnd.dataresource+json": {
                            "schema": {
                                "fields": [
                                    {
                                        "name": "MIN"
                                    },
                                    {
                                        "name": "MAX"
                                    },
                                    {
                                        "name": "AVG"
                                    }
                                ]
                            },
                            "data": [
                                {
                                    "MIN": "1",
                                    "MAX": "4",
                                    "AVG": "2"
                                }
                            ]
                        },
                        "text/html": [
                            "<table>",
                            "<tr><th>MIN</th><th>MAX</th><th>AVG</th></tr>",
                            "<tr><td>1</td><td>4</td><td>2</td></tr>",
                            "</table>"
                        ]
                    }
                }
            ],
            "execution_count": 41
        },
        {
            "cell_type": "code",
            "source": [
                "SELECT COUNT(*)/(SELECT COUNT(*) FROM Szoba) AS 'NULL értékek aránya'\r\n",
                "FROM Szoba\r\n",
                "WHERE FEROHELY IS NULL"
            ],
            "metadata": {
                "azdata_cell_guid": "b5b48f39-9991-4cb2-9052-d9be9ed94b9f",
                "language": "sql"
            },
            "outputs": [
                {
                    "output_type": "display_data",
                    "data": {
                        "text/html": "(1 row affected)"
                    },
                    "metadata": {}
                },
                {
                    "output_type": "display_data",
                    "data": {
                        "text/html": "Total execution time: 00:00:00.005"
                    },
                    "metadata": {}
                },
                {
                    "output_type": "execute_result",
                    "metadata": {},
                    "execution_count": 55,
                    "data": {
                        "application/vnd.dataresource+json": {
                            "schema": {
                                "fields": [
                                    {
                                        "name": "NULL értékek aránya"
                                    }
                                ]
                            },
                            "data": [
                                {
                                    "NULL értékek aránya": "0"
                                }
                            ]
                        },
                        "text/html": [
                            "<table>",
                            "<tr><th>NULL értékek aránya</th></tr>",
                            "<tr><td>0</td></tr>",
                            "</table>"
                        ]
                    }
                }
            ],
            "execution_count": 55
        },
        {
            "cell_type": "markdown",
            "source": [
                "6. Valósítsa meg REDIS-ben a következő táblákat:\n",
                "    \n",
                "    - <span style=\"box-sizing: border-box; font-size: 0.9375rem;\">IRO(ID, nev, nemzetiseg)</span>\n",
                "    - KONYV(ID, cim, mufaj, IRO\\_ID)\n",
                "    \n",
                "    Vigyen fel táblánként legalább 2-2 sornyi adatot!"
            ],
            "metadata": {
                "azdata_cell_guid": "79834fef-1c7f-4b82-b67f-4c5a2ac14b20"
            },
            "attachments": {}
        },
        {
            "cell_type": "code",
            "source": [
                "> HSET IRO:1 ID 1 nev 'Kiss Bela' nemzetiseg 'magyar'\r\n",
                "(integer) 3\r\n",
                "\r\n",
                "> HSET IRO:2 ID 2 nev 'Anna Smith' nemzetiseg 'amerikai'\r\n",
                "(integer) 3\r\n",
                "\r\n",
                "> HSET KONYV:1 ID 1 cim Alma mufaj krimi IRO_ID 1\r\n",
                "(integer) 4\r\n",
                "\r\n",
                "> HSET KONYV:2 ID 2 cim Heart mufaj romantikus IRO_ID 2\r\n",
                "(integer) 4"
            ],
            "metadata": {
                "azdata_cell_guid": "998cf9f8-a0ff-46aa-bc5c-ca2070637322",
                "language": "sql"
            },
            "outputs": [
                {
                    "output_type": "display_data",
                    "data": {
                        "text/html": "Commands completed successfully."
                    },
                    "metadata": {}
                },
                {
                    "output_type": "display_data",
                    "data": {
                        "text/html": "Total execution time: 00:00:00"
                    },
                    "metadata": {}
                }
            ],
            "execution_count": 56
        },
        {
            "cell_type": "markdown",
            "source": [
                "7. Cassandra CQL Shellben hozza létre a következő táblát:\n",
                "    \n",
                "    STUDENT(ID, Nev, Teljesitett\\_felevek, Eredmenyek, Nyelvtudas)\n",
                "    \n",
                "    - Az ID legyen az elsődleges kulcs\n",
                "    - A Teljesitett félévek legyen LIST, tartalma egész számok, pl: 1, 2, 3\n",
                "    - Az Eredmenyek legyen MAP, tartalma, hogy melyik félévben mennyi volt az átlag, pl: 1: 3,00, 2: 4.55, 3: 4,10\n",
                "    - A Nyelvtudas legyen SET, tartalma a nyelvek megnevezése\n",
                "    \n",
                "    Vigyen fel legalább 2 rekordot!"
            ],
            "metadata": {
                "azdata_cell_guid": "c2a21b3a-0eb4-4af2-8f64-3378f424a176"
            },
            "attachments": {}
        },
        {
            "cell_type": "code",
            "source": [
                " CREATE TABLE STUDENT (\r\n",
                "            ID int,\r\n",
                "            Teljesitett_felevek LIST<int>,\r\n",
                "            Eredmenyek MAP<int,float>,\r\n",
                "            Nyelvtudas SET<text>,\r\n",
                "            PRIMARY KEY (ID)\r\n",
                "            );\r\n",
                "\r\n",
                "INSERT INTO STUDENT (ID, Nev, Teljesitett_felevek, Eredmenyek, Nyelvtudas) VALUES(1, [1,2], {[1]:3.00, [2]:4.55}, {'angol'});\r\n",
                "INSERT INTO STUDENT (ID, Nev, Teljesitett_felevek, Eredmenyek, Nyelvtudas) VALUES(1, [1,2,3], {[1]:3.00, [2]:4.55, [3]:4.10}, {'nemet'});"
            ],
            "metadata": {
                "azdata_cell_guid": "cf9d6a8e-7e5f-4eb6-9428-41afb8d596e7",
                "language": "sql"
            },
            "outputs": [],
            "execution_count": null
        },
        {
            "cell_type": "markdown",
            "source": [
                "8. A Neo4j Sandbox-ban vagy a Desktopban jelenítsük meg azon személyeket, akik egy filmben szerepeltek Tom Hanks-sel.\n",
                "    \n",
                "    - Egy szereplő neve csak egyszer jelenjen meg\n",
                "    - Tom Hanks ne legyen benne a listában"
            ],
            "metadata": {
                "azdata_cell_guid": "029b34a1-4920-479c-937d-7e85e3f113d6"
            },
            "attachments": {}
        },
        {
            "cell_type": "code",
            "source": [
                "match (p:Person)-[:ACTED_IN]->(m:Movie)\r\n",
                "where p.name <> 'Tom Hanks'\r\n",
                "return p.name"
            ],
            "metadata": {
                "azdata_cell_guid": "6499ee0d-0fde-490f-ad53-3b19e4fa7b97",
                "language": "sql"
            },
            "outputs": [],
            "execution_count": null
        }
    ]
}